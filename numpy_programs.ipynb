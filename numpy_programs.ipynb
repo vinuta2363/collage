{
  "nbformat": 4,
  "nbformat_minor": 0,
  "metadata": {
    "colab": {
      "provenance": [],
      "authorship_tag": "ABX9TyPfOlEBap+zk1IC93+aEVvi",
      "include_colab_link": true
    },
    "kernelspec": {
      "name": "python3",
      "display_name": "Python 3"
    },
    "language_info": {
      "name": "python"
    }
  },
  "cells": [
    {
      "cell_type": "markdown",
      "metadata": {
        "id": "view-in-github",
        "colab_type": "text"
      },
      "source": [
        "<a href=\"https://colab.research.google.com/github/vinuta2363/collage/blob/main/numpy_programs.ipynb\" target=\"_parent\"><img src=\"https://colab.research.google.com/assets/colab-badge.svg\" alt=\"Open In Colab\"/></a>"
      ]
    },
    {
      "cell_type": "code",
      "execution_count": null,
      "metadata": {
        "colab": {
          "base_uri": "https://localhost:8080/"
        },
        "id": "93r1mrWoo-YB",
        "outputId": "d2d0625e-369f-414f-ab01-4d87be020361"
      },
      "outputs": [
        {
          "output_type": "stream",
          "name": "stdout",
          "text": [
            "array a: [1 2 3 4 5]\n",
            "array b: [10 20 30 40 50]\n",
            "sum: [11 22 33 44 55]\n",
            "difference: [ -9 -18 -27 -36 -45]\n",
            "product: [ 10  40  90 160 250]\n",
            "mean of a: 3.0\n",
            "max of b: 50\n",
            "min of b: 10\n"
          ]
        }
      ],
      "source": [
        "import numpy as np\n",
        "a=np.array([1,2,3,4,5])\n",
        "b=np.array([10,20,30,40,50])\n",
        "sum_array=a+b\n",
        "diff_array=a-b\n",
        "product_array=a*b\n",
        "mean_a=np.mean(a)\n",
        "max_b=np.max(b)\n",
        "min_b=np.min(b)\n",
        "print(\"array a:\",a)\n",
        "print(\"array b:\",b)\n",
        "print(\"sum:\",sum_array)\n",
        "print(\"difference:\",diff_array)\n",
        "print(\"product:\",product_array)\n",
        "print(\"mean of a:\",mean_a)\n",
        "print(\"max of b:\",max_b)\n",
        "print(\"min of b:\",min_b)\n"
      ]
    },
    {
      "cell_type": "code",
      "source": [
        "import numpy as np\n",
        "arr=np.array([[1,2,3],[4,5,6]])\n",
        "print(\"element at(0,1):\",arr[0,1])\n",
        "print(\"second row:\",arr[1])\n",
        "print(arr)"
      ],
      "metadata": {
        "colab": {
          "base_uri": "https://localhost:8080/"
        },
        "id": "MaMRNM_Tq1j-",
        "outputId": "3ad19524-6942-4b51-a531-4a39addab544"
      },
      "execution_count": null,
      "outputs": [
        {
          "output_type": "stream",
          "name": "stdout",
          "text": [
            "element at(0,1): 2\n",
            "second row: [4 5 6]\n",
            "[[1 2 3]\n",
            " [4 5 6]]\n"
          ]
        }
      ]
    },
    {
      "cell_type": "code",
      "source": [
        "a=np.array([5,10,15])\n",
        "b=np.array([1,2,3])\n",
        "result=a+b\n",
        "print(\"sum:\",result)"
      ],
      "metadata": {
        "colab": {
          "base_uri": "https://localhost:8080/"
        },
        "id": "nMI3_GsFruXl",
        "outputId": "18ab0578-a376-4ad8-cdfe-c4bbe7aa3811"
      },
      "execution_count": null,
      "outputs": [
        {
          "output_type": "stream",
          "name": "stdout",
          "text": [
            "sum: [ 6 12 18]\n"
          ]
        }
      ]
    },
    {
      "cell_type": "code",
      "source": [
        "import numpy as np\n",
        "rand_array=np.random.randint(1,100,size=10)\n",
        "print(\"random array:\",rand_array)\n",
        "print(\"maximum:\",np.max(rand_array))\n",
        "print(\"minimum:\",np.min(rand_array))"
      ],
      "metadata": {
        "colab": {
          "base_uri": "https://localhost:8080/"
        },
        "id": "xrp4kcfjsVTt",
        "outputId": "b5863052-10ee-456c-9339-8764444196a8"
      },
      "execution_count": null,
      "outputs": [
        {
          "output_type": "stream",
          "name": "stdout",
          "text": [
            "random array: [11 91 42 47 13 96 56  9 54 97]\n",
            "maximum: 97\n",
            "minimum: 9\n"
          ]
        }
      ]
    },
    {
      "cell_type": "code",
      "source": [
        "import numpy as np\n",
        "arr=np.array([1,2,3,4,5,6])\n",
        "reshaped=arr.reshape(2,3)\n",
        "print(\"reshaped(2x3):\\n\",reshaped)\n",
        "flattened=reshaped.flatten()\n",
        "print(\"flattened:\",flattened)"
      ],
      "metadata": {
        "colab": {
          "base_uri": "https://localhost:8080/"
        },
        "id": "Px0iFZ0stlet",
        "outputId": "fbe4bf69-833b-4227-cadb-a872431babbb"
      },
      "execution_count": null,
      "outputs": [
        {
          "output_type": "stream",
          "name": "stdout",
          "text": [
            "reshaped(2x3):\n",
            " [[1 2 3]\n",
            " [4 5 6]]\n",
            "flattened: [1 2 3 4 5 6]\n"
          ]
        }
      ]
    },
    {
      "cell_type": "code",
      "source": [
        "import numpy as np\n",
        "arr=np.array([10,20,30,40,50])\n",
        "filtered=arr[arr>25]\n",
        "print(\"element>25:\",filtered)"
      ],
      "metadata": {
        "colab": {
          "base_uri": "https://localhost:8080/"
        },
        "id": "vrmPuSqsuOET",
        "outputId": "e97bb04e-7cc8-4c6a-aa90-45815f80205c"
      },
      "execution_count": null,
      "outputs": [
        {
          "output_type": "stream",
          "name": "stdout",
          "text": [
            "element>25: [30 40 50]\n"
          ]
        }
      ]
    },
    {
      "cell_type": "code",
      "source": [
        "import numpy as np\n",
        "a=np.array([[1,2],[3,4]])\n",
        "b=np.array([[5,6],[7,8]])\n",
        "result=np.dot(a,b)\n",
        "print(\"matrix A:\\n\",a)\n",
        "print(\"matrix B:\\n\",b)\n",
        "print(\"A x B:\\n\",result)"
      ],
      "metadata": {
        "colab": {
          "base_uri": "https://localhost:8080/"
        },
        "id": "VRFhvQCruyTT",
        "outputId": "30cebbd8-522d-414a-c910-2ce5ea43d5d6"
      },
      "execution_count": null,
      "outputs": [
        {
          "output_type": "stream",
          "name": "stdout",
          "text": [
            "matrix A:\n",
            " [[1 2]\n",
            " [3 4]]\n",
            "matrix B:\n",
            " [[5 6]\n",
            " [7 8]]\n",
            "A x B:\n",
            " [[19 22]\n",
            " [43 50]]\n"
          ]
        }
      ]
    },
    {
      "cell_type": "code",
      "source": [
        "data=np.array([1,2,3,4,5,6])\n",
        "print(\"mean:\",np.mean(data))\n",
        "print(\"median:\",np.median(data))\n",
        "print(\"standard deviation:\",np.std(data))"
      ],
      "metadata": {
        "colab": {
          "base_uri": "https://localhost:8080/"
        },
        "id": "p19lpQdjvzIi",
        "outputId": "cfadef86-b3e1-4920-de1f-30d9f06df16f"
      },
      "execution_count": null,
      "outputs": [
        {
          "output_type": "stream",
          "name": "stdout",
          "text": [
            "mean: 3.5\n",
            "median: 3.5\n",
            "standard deviation: 1.707825127659933\n"
          ]
        }
      ]
    },
    {
      "cell_type": "code",
      "source": [
        "import numpy as np\n",
        "a=np.arange(0,10)\n",
        "b=np.linspace(0,2*np.pi,10)\n",
        "print(\"arrange: \",a)\n",
        "print(\"linspace: \",b)"
      ],
      "metadata": {
        "colab": {
          "base_uri": "https://localhost:8080/"
        },
        "id": "aqfiFcUsl1XD",
        "outputId": "0b749e25-6aa8-43a6-a752-09c052c4c736"
      },
      "execution_count": null,
      "outputs": [
        {
          "output_type": "stream",
          "name": "stdout",
          "text": [
            "arrange:  [0 1 2 3 4 5 6 7 8 9]\n",
            "linspace:  [0.         0.6981317  1.3962634  2.0943951  2.7925268  3.4906585\n",
            " 4.1887902  4.88692191 5.58505361 6.28318531]\n"
          ]
        }
      ]
    },
    {
      "cell_type": "code",
      "source": [
        "matrix=np.array([[1,2,3],[4,5,6]])\n",
        "transpose=matrix.T\n",
        "print(\"original:\\n\",matrix)\n",
        "print(\"transpose: \\n\",transpose)"
      ],
      "metadata": {
        "colab": {
          "base_uri": "https://localhost:8080/"
        },
        "id": "HUIJVflUmQwb",
        "outputId": "9d53479f-3ba9-418e-fa35-e070496db06a"
      },
      "execution_count": null,
      "outputs": [
        {
          "output_type": "stream",
          "name": "stdout",
          "text": [
            "original:\n",
            " [[1 2 3]\n",
            " [4 5 6]]\n",
            "transpose: \n",
            " [[1 4]\n",
            " [2 5]\n",
            " [3 6]]\n"
          ]
        }
      ]
    },
    {
      "cell_type": "code",
      "source": [
        "x=np.array([0,np.pi/2,np.pi])\n",
        "y=np.sin(x)\n",
        "print(\"x values: \",x)\n",
        "print(\"sin(x): \",y)"
      ],
      "metadata": {
        "colab": {
          "base_uri": "https://localhost:8080/"
        },
        "id": "GAlPp63Am6ny",
        "outputId": "f2bc4a3f-1939-4a98-a979-cae07ceb9046"
      },
      "execution_count": null,
      "outputs": [
        {
          "output_type": "stream",
          "name": "stdout",
          "text": [
            "x values:  [0.         1.57079633 3.14159265]\n",
            "sin(x):  [0.0000000e+00 1.0000000e+00 1.2246468e-16]\n"
          ]
        }
      ]
    },
    {
      "cell_type": "code",
      "source": [
        "import pandas as pd\n",
        "data={'name':['alice','bob','vharlie'],\n",
        "      'age':[25,30,22],\n",
        "      'score':[85,90,95]}\n",
        "df=pd.DataFrame(data)\n",
        "print(df)"
      ],
      "metadata": {
        "colab": {
          "base_uri": "https://localhost:8080/"
        },
        "id": "28Xf9BbonKpc",
        "outputId": "8552f0f0-c603-41c7-d367-4030f8a1e7dd"
      },
      "execution_count": null,
      "outputs": [
        {
          "output_type": "stream",
          "name": "stdout",
          "text": [
            "      name  age  score\n",
            "0    alice   25     85\n",
            "1      bob   30     90\n",
            "2  vharlie   22     95\n"
          ]
        }
      ]
    },
    {
      "cell_type": "code",
      "source": [
        "import pandas as pd\n",
        "df=pd.read_csv(\"/STUDENTS.csv\")\n",
        "print(df.head())\n",
        "print(df.info())\n",
        "print(df.describe())\n"
      ],
      "metadata": {
        "id": "VrbV4vutw7ek",
        "colab": {
          "base_uri": "https://localhost:8080/"
        },
        "outputId": "3e65ae7b-bea8-4113-e517-d6c0a1e34898"
      },
      "execution_count": null,
      "outputs": [
        {
          "output_type": "stream",
          "name": "stdout",
          "text": [
            "   SLNO     NAME    REGNO  S1  S2\n",
            "0     1   SHREYA  23CS048  89  90\n",
            "1     2  SANJANA  23CS043  87  99\n",
            "2     3   SIMRAN  23CS055  85  98\n",
            "<class 'pandas.core.frame.DataFrame'>\n",
            "RangeIndex: 3 entries, 0 to 2\n",
            "Data columns (total 5 columns):\n",
            " #   Column  Non-Null Count  Dtype \n",
            "---  ------  --------------  ----- \n",
            " 0   SLNO    3 non-null      int64 \n",
            " 1   NAME    3 non-null      object\n",
            " 2   REGNO   3 non-null      object\n",
            " 3   S1      3 non-null      int64 \n",
            " 4   S2      3 non-null      int64 \n",
            "dtypes: int64(3), object(2)\n",
            "memory usage: 252.0+ bytes\n",
            "None\n",
            "       SLNO    S1         S2\n",
            "count   3.0   3.0   3.000000\n",
            "mean    2.0  87.0  95.666667\n",
            "std     1.0   2.0   4.932883\n",
            "min     1.0  85.0  90.000000\n",
            "25%     1.5  86.0  94.000000\n",
            "50%     2.0  87.0  98.000000\n",
            "75%     2.5  88.0  98.500000\n",
            "max     3.0  89.0  99.000000\n"
          ]
        }
      ]
    },
    {
      "cell_type": "code",
      "source": [
        "import pandas as ps\n",
        "data={'name':['asha','ravi','neha'],\n",
        "      'age':[24,29,26]}\n",
        "df=pd.DataFrame(data)\n",
        "filtered_df=df[df['age']>25]\n",
        "print(filtered_df)"
      ],
      "metadata": {
        "colab": {
          "base_uri": "https://localhost:8080/"
        },
        "id": "0FPQmXgsnwAh",
        "outputId": "dc2a0d13-bebb-449d-e128-033e4b4f45b2"
      },
      "execution_count": null,
      "outputs": [
        {
          "output_type": "stream",
          "name": "stdout",
          "text": [
            "   name  age\n",
            "1  ravi   29\n",
            "2  neha   26\n"
          ]
        }
      ]
    },
    {
      "cell_type": "code",
      "source": [
        "import pandas as pd\n",
        "data={'department':['cs','cs','it','it'],\n",
        "      'marks':[85,90,78,82]}\n",
        "df=pd.DataFrame(data)\n",
        "grouped=df.groupby('department').mean()\n",
        "print(grouped)\n"
      ],
      "metadata": {
        "colab": {
          "base_uri": "https://localhost:8080/"
        },
        "id": "EXvUORahoNaR",
        "outputId": "b0d1aa43-7db9-4557-a9ec-20f816b66b8c"
      },
      "execution_count": null,
      "outputs": [
        {
          "output_type": "stream",
          "name": "stdout",
          "text": [
            "            marks\n",
            "department       \n",
            "cs           87.5\n",
            "it           80.0\n"
          ]
        }
      ]
    },
    {
      "cell_type": "code",
      "source": [
        "import pandas as ps\n",
        "data={'math':[90,80,85],\n",
        "      'science':[95,75,88]}\n",
        "df=pd.DataFrame(data)\n",
        "df['average']=(df['math']+df['science'])/2\n",
        "print(df)\n",
        "df.to_csv(\"average.csv\",index=False)"
      ],
      "metadata": {
        "colab": {
          "base_uri": "https://localhost:8080/"
        },
        "id": "sNgxsjGbo8L6",
        "outputId": "8b3e054f-5be1-45c6-ae2b-73a6ac2f506c"
      },
      "execution_count": null,
      "outputs": [
        {
          "output_type": "stream",
          "name": "stdout",
          "text": [
            "   math  science  average\n",
            "0    90       95     92.5\n",
            "1    80       75     77.5\n",
            "2    85       88     86.5\n"
          ]
        }
      ]
    },
    {
      "cell_type": "code",
      "source": [
        "import matplotlib.pyplot as plt\n",
        "x=[1,2,3,4,5]\n",
        "y=[10,12,15,18,20]\n",
        "plt.plot(x,y)\n",
        "plt.title(\"simple line graph\")\n",
        "plt.xlabel(\"x values\")\n",
        "plt.ylabel(\"y values\")\n",
        "plt.show()"
      ],
      "metadata": {
        "colab": {
          "base_uri": "https://localhost:8080/",
          "height": 472
        },
        "id": "Mr0wORcBpo2Q",
        "outputId": "d7db4492-5ceb-4044-ecc4-14d1c1195178"
      },
      "execution_count": null,
      "outputs": [
        {
          "output_type": "display_data",
          "data": {
            "text/plain": [
              "<Figure size 640x480 with 1 Axes>"
            ],
            "image/png": "[encoded data removed]"
          },
          "metadata": {}
        }
      ]
    },
    {
      "cell_type": "code",
      "source": [
        "import matplotlib.pyplot as plt\n",
        "students=['asha','ravi','neha']\n",
        "scores=[85,90,78]\n",
        "plt.bar(students,scores,color='skyblue')\n",
        "plt.title(\"student scores\")\n",
        "plt.xlabel(\"students\")\n",
        "plt.ylabel(\"marks\")\n",
        "plt.show()"
      ],
      "metadata": {
        "colab": {
          "base_uri": "https://localhost:8080/",
          "height": 472
        },
        "id": "7rACBvR_ra9W",
        "outputId": "87caf92f-d1e5-4005-e49a-b0782f463417"
      },
      "execution_count": null,
      "outputs": [
        {
          "output_type": "display_data",
          "data": {
            "text/plain": [
              "<Figure size 640x480 with 1 Axes>"
            ],
            "image/png": "[encoded data removed]"
          },
          "metadata": {}
        }
      ]
    },
    {
      "cell_type": "code",
      "source": [
        "import matplotlib.pyplot as plt\n",
        "labels = ['Python', 'Java', 'C++', 'C']\n",
        "sizes = [40, 25, 20, 15]\n",
        "plt.pie(sizes, labels=labels, autopct=\"%1.1f%%\", startangle=140)\n",
        "plt.axis('equal')\n",
        "plt.title(\"Programming Language Usage\")\n",
        "plt.show()"
      ],
      "metadata": {
        "colab": {
          "base_uri": "https://localhost:8080/",
          "height": 428
        },
        "id": "___iUITGGGQn",
        "outputId": "6c6d3c20-0156-4524-cb91-8a7135a6ea4c"
      },
      "execution_count": null,
      "outputs": [
        {
          "output_type": "display_data",
          "data": {
            "text/plain": [
              "<Figure size 640x480 with 1 Axes>"
            ],
            "image/png": "[encoded data removed]"
          },
          "metadata": {}
        }
      ]
    },
    {
      "cell_type": "code",
      "source": [
        "import matplotlib.pyplot as plt\n",
        "ages=[18,22,21,25,30,27,25,22,19]\n",
        "plt.hist(ages,bins=5,color='green')\n",
        "plt.title(\"age distribution\")\n",
        "plt.xlabel(\"age\")\n",
        "plt.ylabel(\"frequency\")\n",
        "plt.show()"
      ],
      "metadata": {
        "colab": {
          "base_uri": "https://localhost:8080/",
          "height": 472
        },
        "id": "EY1Zm3Bqrp2n",
        "outputId": "e2f6cbf4-49ea-4eb1-f360-2ff3318327f3"
      },
      "execution_count": null,
      "outputs": [
        {
          "output_type": "display_data",
          "data": {
            "text/plain": [
              "<Figure size 640x480 with 1 Axes>"
            ],
            "image/png": "[encoded data removed]"
          },
          "metadata": {}
        }
      ]
    },
    {
      "cell_type": "code",
      "source": [
        "import matplotlib.pyplot as plt\n",
        "x=[1,2,3,4,5]\n",
        "y=[5,6,7,8,10]\n",
        "plt.scatter(x,y,color='red')\n",
        "plt.title(\"scatter plot example\")\n",
        "plt.xlabel(\"x values\")\n",
        "plt.ylabel(\"y values\")\n",
        "plt.show()"
      ],
      "metadata": {
        "colab": {
          "base_uri": "https://localhost:8080/",
          "height": 472
        },
        "id": "hUBkGXk6rufu",
        "outputId": "90f9cb73-0f8e-424d-cec4-5ac7924cb228"
      },
      "execution_count": null,
      "outputs": [
        {
          "output_type": "display_data",
          "data": {
            "text/plain": [
              "<Figure size 640x480 with 1 Axes>"
            ],
            "image/png": "[encoded data removed]"
          },
          "metadata": {}
        }
      ]
    },
    {
      "cell_type": "code",
      "source": [],
      "metadata": {
        "id": "LJUck6czuNTc"
      },
      "execution_count": null,
      "outputs": []
    }
  ]
}
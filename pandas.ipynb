{
  "nbformat": 4,
  "nbformat_minor": 0,
  "metadata": {
    "colab": {
      "provenance": [],
      "authorship_tag": "ABX9TyM1Mw5A92tSK7JbhK79wWP2",
      "include_colab_link": true
    },
    "kernelspec": {
      "name": "python3",
      "display_name": "Python 3"
    },
    "language_info": {
      "name": "python"
    }
  },
  "cells": [
    {
      "cell_type": "markdown",
      "metadata": {
        "id": "view-in-github",
        "colab_type": "text"
      },
      "source": [
        "<a href=\"https://colab.research.google.com/github/vinuta2363/collage/blob/main/pandas.ipynb\" target=\"_parent\"><img src=\"https://colab.research.google.com/assets/colab-badge.svg\" alt=\"Open In Colab\"/></a>"
      ]
    },
    {
      "cell_type": "code",
      "execution_count": null,
      "metadata": {
        "colab": {
          "base_uri": "https://localhost:8080/"
        },
        "id": "FL857ppLXZxK",
        "outputId": "6b4bbe70-7666-4c56-c66b-9e784af93539"
      },
      "outputs": [
        {
          "output_type": "stream",
          "name": "stdout",
          "text": [
            "multiply two series: \n",
            "0     2\n",
            "1    12\n",
            "2    56\n",
            "3    90\n",
            "dtype: int64\n",
            "divide series1 by series2: \n",
            "0    2.000000\n",
            "1    1.333333\n",
            "2    1.142857\n",
            "3    1.111111\n",
            "dtype: float64\n"
          ]
        }
      ],
      "source": [
        "import pandas as pd\n",
        "ds1=pd.Series([2,4,8,10])\n",
        "ds2=pd.Series([1,3,7,9])\n",
        "print(\"multiply two series: \")\n",
        "ds=ds1*ds2\n",
        "print(ds)\n",
        "print(\"divide series1 by series2: \")\n",
        "ds=ds1/ds2\n",
        "print(ds)"
      ]
    },
    {
      "cell_type": "code",
      "source": [
        "import pandas as pd\n",
        "d1={'a':100,'b':200,'c':300}\n",
        "print(d1)\n",
        "new_series=pd.Series(d1)\n",
        "print(\"converted series\")\n",
        "print(new_series)"
      ],
      "metadata": {
        "colab": {
          "base_uri": "https://localhost:8080/"
        },
        "id": "jZ7xCjLtZacp",
        "outputId": "0ad54a03-d449-4f9e-bb8a-622df7a316ca"
      },
      "execution_count": null,
      "outputs": [
        {
          "output_type": "stream",
          "name": "stdout",
          "text": [
            "{'a': 100, 'b': 200, 'c': 300}\n",
            "converted series\n",
            "a    100\n",
            "b    200\n",
            "c    300\n",
            "dtype: int64\n"
          ]
        }
      ]
    },
    {
      "cell_type": "code",
      "source": [
        "import pandas as pd\n",
        "S=pd.Series([400,300.12,100,200])\n",
        "print(\"original data series: \")\n",
        "print(S)\n",
        "new_S=pd.Series(S).sort_values()\n",
        "print(new_S)"
      ],
      "metadata": {
        "colab": {
          "base_uri": "https://localhost:8080/"
        },
        "id": "vciN3lVxaWPA",
        "outputId": "7d850e24-9452-4172-d3b7-8863ac90cca8"
      },
      "execution_count": null,
      "outputs": [
        {
          "output_type": "stream",
          "name": "stdout",
          "text": [
            "original data series: \n",
            "0    400.00\n",
            "1    300.12\n",
            "2    100.00\n",
            "3    200.00\n",
            "dtype: float64\n",
            "2    100.00\n",
            "3    200.00\n",
            "1    300.12\n",
            "0    400.00\n",
            "dtype: float64\n"
          ]
        }
      ]
    },
    {
      "cell_type": "code",
      "source": [
        "import pandas as pd\n",
        "S=pd.Series(data=[1,2,3],index=['A','B','C'])\n",
        "print(\"original data series\")\n",
        "print(S)\n",
        "S=S.reindex(index=['B','A','C'])\n",
        "print(\"data series after changing the order of index: \")\n",
        "print(S)"
      ],
      "metadata": {
        "colab": {
          "base_uri": "https://localhost:8080/"
        },
        "id": "4_wgHq8ca4sP",
        "outputId": "4448fe76-585f-4a4f-a9c2-3103db4ff2e3"
      },
      "execution_count": null,
      "outputs": [
        {
          "output_type": "stream",
          "name": "stdout",
          "text": [
            "original data series\n",
            "A    1\n",
            "B    2\n",
            "C    3\n",
            "dtype: int64\n",
            "data series after changing the order of index: \n",
            "B    2\n",
            "A    1\n",
            "C    3\n",
            "dtype: int64\n"
          ]
        }
      ]
    },
    {
      "cell_type": "code",
      "source": [
        "import pandas as pd\n",
        "import numpy as np\n",
        "sr1=pd.Series([1,2,3])\n",
        "sr2=pd.Series([2,3,6])\n",
        "print(\"original series\")\n",
        "print(\"sr1\")\n",
        "print(sr1)\n",
        "print(\"sr2\")\n",
        "print(sr2)\n",
        "print(\"\\n items of a given series not present in another given series\")\n",
        "sr11=pd.Series(np.union1d(sr1,sr2))\n",
        "sr22=pd.Series(np.intersect1d(sr1,sr2))\n",
        "result=sr11[~sr11.isin(sr22)]\n",
        "print(result)"
      ],
      "metadata": {
        "colab": {
          "base_uri": "https://localhost:8080/"
        },
        "id": "6DC9eq9aSQJn",
        "outputId": "0ace1da3-3be9-4bb3-8dba-95b3e8029ee1"
      },
      "execution_count": null,
      "outputs": [
        {
          "output_type": "stream",
          "name": "stdout",
          "text": [
            "original series\n",
            "sr1\n",
            "0    1\n",
            "1    2\n",
            "2    3\n",
            "dtype: int64\n",
            "sr2\n",
            "0    2\n",
            "1    3\n",
            "2    6\n",
            "dtype: int64\n",
            "\n",
            " items of a given series not present in another given series\n",
            "0    1\n",
            "3    6\n",
            "dtype: int64\n"
          ]
        }
      ]
    },
    {
      "cell_type": "code",
      "source": [
        "import pandas as pd\n",
        "import numpy as np\n",
        "exam_data={'name':['manish','dhiraj'],'score':[12.5,9]}\n",
        "labels=['NAME','SCORE']\n",
        "df=pd.DataFrame(exam_data,index=labels)\n",
        "print(df)"
      ],
      "metadata": {
        "colab": {
          "base_uri": "https://localhost:8080/"
        },
        "id": "IRPgIiOgT-EI",
        "outputId": "d5578b51-6ab9-4311-9edd-d29799f4c78c"
      },
      "execution_count": null,
      "outputs": [
        {
          "output_type": "stream",
          "name": "stdout",
          "text": [
            "         name  score\n",
            "NAME   manish   12.5\n",
            "SCORE  dhiraj    9.0\n"
          ]
        }
      ]
    },
    {
      "cell_type": "code",
      "source": [
        "import pandas as pd\n",
        "import numpy as np\n",
        "exam_data={'name':['manish','dhiraj','man','dhir'],'score':[12.5,91,2.5,9]}\n",
        "df=pd.DataFrame(exam_data)\n",
        "print(\"first three rows of dataframe\")\n",
        "print(df.iloc[:3])"
      ],
      "metadata": {
        "colab": {
          "base_uri": "https://localhost:8080/"
        },
        "outputId": "ab459e02-480e-4db9-9f9c-d3bd417537c8",
        "id": "KsKI6CLWVeLV"
      },
      "execution_count": null,
      "outputs": [
        {
          "output_type": "stream",
          "name": "stdout",
          "text": [
            "first three rows of dataframe\n",
            "     name  score\n",
            "0  manish   12.5\n",
            "1  dhiraj   91.0\n",
            "2     man    2.5\n"
          ]
        }
      ]
    },
    {
      "cell_type": "code",
      "source": [
        "import pandas as pd\n",
        "import numpy as np\n",
        "exam_data={'name':['manish','dhiraj','man','dhir'],'score':[12.5,91,2.5,9]}\n",
        "df=pd.DataFrame(exam_data)\n",
        "total_rows=len(df.axes[0])\n",
        "total_cols=len(df.axes[1])\n",
        "print(\"number of rows:\"+str(total_rows))\n",
        "print(\"number of columns: \"+str(total_cols))"
      ],
      "metadata": {
        "colab": {
          "base_uri": "https://localhost:8080/"
        },
        "outputId": "3d67cc97-98f3-4a77-a273-2e51066c770b",
        "id": "FTzE7boLWiTy"
      },
      "execution_count": null,
      "outputs": [
        {
          "output_type": "stream",
          "name": "stdout",
          "text": [
            "number of rows:4\n",
            "number of columns: 2\n"
          ]
        }
      ]
    },
    {
      "cell_type": "code",
      "source": [
        "import pandas as pd\n",
        "import numpy as np\n",
        "exam_data={'name':['manish','dhiraj','man','dhir'],'score':[12.5,91,20.5,19]}\n",
        "df=pd.DataFrame(exam_data)\n",
        "print(\"rows where score between 15$20\")\n",
        "print(df[df['score'].between(15,20)])"
      ],
      "metadata": {
        "colab": {
          "base_uri": "https://localhost:8080/"
        },
        "outputId": "1878b1a7-8032-4db0-95d6-14f25490d9a8",
        "id": "ecY6XjrqXXJO"
      },
      "execution_count": null,
      "outputs": [
        {
          "output_type": "stream",
          "name": "stdout",
          "text": [
            "rows where score between 15$20\n",
            "   name  score\n",
            "3  dhir   19.0\n"
          ]
        }
      ]
    },
    {
      "cell_type": "code",
      "source": [
        "import pandas as pd\n",
        "import numpy as np\n",
        "exam_data={'name':['manish','dhiraj','man','dhir'],'score':[12.5,91,20.5,19]}\n",
        "df=pd.DataFrame(exam_data)\n",
        "result_sort=df.sort_values(by=['name','score'],ascending=[True,True])\n",
        "print(\"sort the 'name' in descending order,then 'score' in ascending order: \")\n",
        "print(result_sort)"
      ],
      "metadata": {
        "colab": {
          "base_uri": "https://localhost:8080/"
        },
        "outputId": "64d5a1a1-3057-4489-d80c-cba9e95deb3e",
        "id": "A67dIjtEYgAh"
      },
      "execution_count": null,
      "outputs": [
        {
          "output_type": "stream",
          "name": "stdout",
          "text": [
            "sort the 'name' in descending order,then 'score' in ascending order: \n",
            "     name  score\n",
            "3    dhir   19.0\n",
            "1  dhiraj   91.0\n",
            "2     man   20.5\n",
            "0  manish   12.5\n"
          ]
        }
      ]
    },
    {
      "cell_type": "code",
      "source": [
        "import pandas as pd\n",
        "import numpy as np\n",
        "exam_data={'name':['manish','dhiraj','man','dhir'],'score':[12.5,91,20.5,19]}\n",
        "df=pd.DataFrame(exam_data)\n",
        "df['name']=df['name'].replace('manish','anish')\n",
        "print(df)"
      ],
      "metadata": {
        "colab": {
          "base_uri": "https://localhost:8080/"
        },
        "outputId": "0c603500-6f9f-40da-b675-0cd239d26973",
        "id": "PZVdx3nWagHP"
      },
      "execution_count": null,
      "outputs": [
        {
          "output_type": "stream",
          "name": "stdout",
          "text": [
            "     name  score\n",
            "0   anish   12.5\n",
            "1  dhiraj   91.0\n",
            "2     man   20.5\n",
            "3    dhir   19.0\n"
          ]
        }
      ]
    },
    {
      "cell_type": "code",
      "source": [
        "import pandas as pd\n",
        "import numpy as np\n",
        "exam_data={'name':['manish','dhiraj','man','dhir'],'score':[12.5,91,20.5,19]}\n",
        "df=pd.DataFrame(exam_data)\n",
        "medium=['english','hindi','hindi','english']\n",
        "df['medium']=medium\n",
        "print(\"\\n new dataframe after inserting the 'medium' column\")\n",
        "import pandas as pd\n",
        "print(df)"
      ],
      "metadata": {
        "colab": {
          "base_uri": "https://localhost:8080/"
        },
        "outputId": "ca3783a4-ee85-4854-b92e-724b8dfb4cbd",
        "id": "qfsDeBDCbQ6v"
      },
      "execution_count": null,
      "outputs": [
        {
          "output_type": "stream",
          "name": "stdout",
          "text": [
            "\n",
            " new dataframe after inserting the 'medium' column\n",
            "     name  score   medium\n",
            "0  manish   12.5  english\n",
            "1  dhiraj   91.0    hindi\n",
            "2     man   20.5    hindi\n",
            "3    dhir   19.0  english\n"
          ]
        }
      ]
    },
    {
      "cell_type": "code",
      "source": [
        "import pandas as pd\n",
        "import numpy as np\n",
        "exam_data={'name':['manish','dhiraj','man','dhir'],'score':[12.5,91,20.5,19]}\n",
        "df=pd.DataFrame(exam_data)\n",
        "df=df.rename(columns={'name':'NAME','score':'SCORE'})\n",
        "print(\"new dataframe after renaming columns: \")\n",
        "print(df)"
      ],
      "metadata": {
        "colab": {
          "base_uri": "https://localhost:8080/"
        },
        "outputId": "b2ba5ebe-7cb4-4171-a009-50450d5aef58",
        "id": "57COtYsQf485"
      },
      "execution_count": null,
      "outputs": [
        {
          "output_type": "stream",
          "name": "stdout",
          "text": [
            "new dataframe after renaming columns: \n",
            "     NAME  SCORE\n",
            "0  manish   12.5\n",
            "1  dhiraj   91.0\n",
            "2     man   20.5\n",
            "3    dhir   19.0\n"
          ]
        }
      ]
    },
    {
      "cell_type": "code",
      "source": [
        "import pandas as pd\n",
        "import numpy as np\n",
        "exam_data={'name':['manish','dhiraj','man','dhir'],'score':[12.5,91,20.5,19]}\n",
        "df=pd.DataFrame(exam_data)\n",
        "df=df[df.score>=20]\n",
        "print(\"new dataframe\")\n",
        "print(df)"
      ],
      "metadata": {
        "colab": {
          "base_uri": "https://localhost:8080/"
        },
        "outputId": "5a2390c7-56a5-48b2-e024-6a307518b4c1",
        "id": "usMko84ZhNEz"
      },
      "execution_count": null,
      "outputs": [
        {
          "output_type": "stream",
          "name": "stdout",
          "text": [
            "new dataframe\n",
            "     name  score\n",
            "1  dhiraj   91.0\n",
            "2     man   20.5\n"
          ]
        }
      ]
    },
    {
      "cell_type": "code",
      "source": [
        "import pandas as pd\n",
        "import numpy as np\n",
        "s1=pd.Series(['100','200','400'])\n",
        "s2=pd.Series(['10','20','40'])\n",
        "print(\"data series\")\n",
        "print(s1)\n",
        "print(s2)\n",
        "df=pd.concat([s1,s2],axis=1)\n",
        "print(\"new dataframe combining two series: \")\n",
        "print(df)"
      ],
      "metadata": {
        "colab": {
          "base_uri": "https://localhost:8080/"
        },
        "outputId": "4cc1952f-1305-4627-8de3-57ed959e6b5e",
        "id": "Nj7_SJmah-Lu"
      },
      "execution_count": null,
      "outputs": [
        {
          "output_type": "stream",
          "name": "stdout",
          "text": [
            "data series\n",
            "0    100\n",
            "1    200\n",
            "2    400\n",
            "dtype: object\n",
            "0    10\n",
            "1    20\n",
            "2    40\n",
            "dtype: object\n",
            "new dataframe combining two series: \n",
            "     0   1\n",
            "0  100  10\n",
            "1  200  20\n",
            "2  400  40\n"
          ]
        }
      ]
    },
    {
      "cell_type": "code",
      "source": [
        "import pandas as pd\n",
        "import numpy as np\n",
        "s1=pd.Series(['100','200','400'])\n",
        "s2=pd.Series(['10','20','40'])\n",
        "df=pd.concat([s1,s2],axis=1)\n",
        "print(\"value of row 4 \")\n",
        "print(df.iloc[2])"
      ],
      "metadata": {
        "colab": {
          "base_uri": "https://localhost:8080/"
        },
        "outputId": "a6d325a7-9af9-420d-d5a3-c7fad91475a8",
        "id": "xShE3rzki8cm"
      },
      "execution_count": null,
      "outputs": [
        {
          "output_type": "stream",
          "name": "stdout",
          "text": [
            "value of row 4 \n",
            "0    400\n",
            "1     40\n",
            "Name: 2, dtype: object\n"
          ]
        }
      ]
    },
    {
      "cell_type": "code",
      "source": [
        "import pandas as pd\n",
        "import numpy as np\n",
        "s1=pd.Series(['100','200','400'])\n",
        "s2=pd.Series(['10','20','40'])\n",
        "df=pd.concat([s1,s2],axis=1)\n",
        "new_col=[1,2,3]\n",
        "idx=0\n",
        "df.insert(loc=idx,column='1',value=new_col)\n",
        "print(\"\\nnew dataframe  \")\n",
        "print(df)"
      ],
      "metadata": {
        "colab": {
          "base_uri": "https://localhost:8080/"
        },
        "outputId": "181ba218-ad1e-4b43-b5e6-dcd093675410",
        "id": "fZQBJSMojSm2"
      },
      "execution_count": null,
      "outputs": [
        {
          "output_type": "stream",
          "name": "stdout",
          "text": [
            "\n",
            "new dataframe  \n",
            "   1    0   1\n",
            "0  1  100  10\n",
            "1  2  200  20\n",
            "2  3  400  40\n"
          ]
        }
      ]
    },
    {
      "cell_type": "code",
      "source": [
        "import pandas as pd\n",
        "s1=pd.Series([5,10,15,20,25])\n",
        "print(s1)"
      ],
      "metadata": {
        "colab": {
          "base_uri": "https://localhost:8080/"
        },
        "id": "sVVBQoJZ1Sve",
        "outputId": "d8a9d2b8-4a4f-4af3-f8e7-7cac206b3163"
      },
      "execution_count": null,
      "outputs": [
        {
          "output_type": "stream",
          "name": "stdout",
          "text": [
            "0     5\n",
            "1    10\n",
            "2    15\n",
            "3    20\n",
            "4    25\n",
            "dtype: int64\n"
          ]
        }
      ]
    },
    {
      "cell_type": "code",
      "source": [
        "import pandas as pd\n",
        "s=pd.Series([10,20,30,40,50])\n",
        "s.index=['a','b','c','d','e']\n",
        "print(s)"
      ],
      "metadata": {
        "colab": {
          "base_uri": "https://localhost:8080/"
        },
        "id": "abLjvthZ1rYP",
        "outputId": "c67e5247-0290-40b2-ad5d-9fd0ebd4cc57"
      },
      "execution_count": null,
      "outputs": [
        {
          "output_type": "stream",
          "name": "stdout",
          "text": [
            "a    10\n",
            "b    20\n",
            "c    30\n",
            "d    40\n",
            "e    50\n",
            "dtype: int64\n"
          ]
        }
      ]
    },
    {
      "cell_type": "code",
      "source": [
        "import pandas as ps\n",
        "s=pd.Series([10,20,30,40,50],index=['a','b','c','d','e'])\n",
        "value=s['c']\n",
        "print(value)"
      ],
      "metadata": {
        "colab": {
          "base_uri": "https://localhost:8080/"
        },
        "id": "Ap_sg01c2JS0",
        "outputId": "96ed7930-7ff5-4405-e365-cac47a446d43"
      },
      "execution_count": null,
      "outputs": [
        {
          "output_type": "stream",
          "name": "stdout",
          "text": [
            "30\n"
          ]
        }
      ]
    },
    {
      "cell_type": "code",
      "source": [
        "import pandas as pd\n",
        "s=pd.Series([10,20,30,40],index=['a','b','c','d'])\n",
        "max_value=s.max()\n",
        "print(max_value)"
      ],
      "metadata": {
        "colab": {
          "base_uri": "https://localhost:8080/"
        },
        "id": "rpY0bHIi26hV",
        "outputId": "6b4e43b4-ea81-4c06-a1be-b8b89ff09d15"
      },
      "execution_count": null,
      "outputs": [
        {
          "output_type": "stream",
          "name": "stdout",
          "text": [
            "40\n"
          ]
        }
      ]
    },
    {
      "cell_type": "code",
      "source": [
        "import pandas as pd\n",
        "s=pd.Series([10,20,30,40,50],index=['a','b','c','d','e'])\n",
        "s=s+5\n",
        "print(s)"
      ],
      "metadata": {
        "colab": {
          "base_uri": "https://localhost:8080/"
        },
        "id": "kPXOs5OP36-U",
        "outputId": "5a48ad89-37f4-4c72-ac81-3fb6dc8caf1b"
      },
      "execution_count": null,
      "outputs": [
        {
          "output_type": "stream",
          "name": "stdout",
          "text": [
            "a    15\n",
            "b    25\n",
            "c    35\n",
            "d    45\n",
            "e    55\n",
            "dtype: int64\n"
          ]
        }
      ]
    },
    {
      "cell_type": "code",
      "source": [
        "import pandas as pd\n",
        "fruit_dict={'apple':50,'banana':30,'cherry':20}\n",
        "fruit_series=pd.Series(fruit_dict)\n",
        "print(fruit_series)"
      ],
      "metadata": {
        "colab": {
          "base_uri": "https://localhost:8080/"
        },
        "id": "rmj9XmKVuiQF",
        "outputId": "11478ff2-fbe9-4651-f9a7-4703feba4b53"
      },
      "execution_count": null,
      "outputs": [
        {
          "output_type": "stream",
          "name": "stdout",
          "text": [
            "apple     50\n",
            "banana    30\n",
            "cherry    20\n",
            "dtype: int64\n"
          ]
        }
      ]
    },
    {
      "cell_type": "code",
      "source": [
        "import pandas as pd\n",
        "fruit_dict={'apple':50,'banana':30,'cherry':20}\n",
        "fruit_series=pd.Series(fruit_dict)\n",
        "filtered_series=fruit_series[fruit_series>25]\n",
        "print(filtered_series)"
      ],
      "metadata": {
        "colab": {
          "base_uri": "https://localhost:8080/"
        },
        "id": "WRVR1FQFvU0l",
        "outputId": "5f8f4f2a-d956-4ee0-9149-dee8767af0ba"
      },
      "execution_count": null,
      "outputs": [
        {
          "output_type": "stream",
          "name": "stdout",
          "text": [
            "apple     50\n",
            "banana    30\n",
            "dtype: int64\n"
          ]
        }
      ]
    },
    {
      "cell_type": "code",
      "source": [
        "import pandas as pd\n",
        "fruit_dict={'apple':50,'banana':30,'cherry':20}\n",
        "fruit_series=pd.Series(fruit_dict)\n",
        "increased_prices=fruit_series*1.2\n",
        "print(increased_prices)"
      ],
      "metadata": {
        "colab": {
          "base_uri": "https://localhost:8080/"
        },
        "id": "_dKt5nkYv4qF",
        "outputId": "3e684bfc-8ac5-41a3-90f7-61651e9c92c1"
      },
      "execution_count": null,
      "outputs": [
        {
          "output_type": "stream",
          "name": "stdout",
          "text": [
            "apple     60.0\n",
            "banana    36.0\n",
            "cherry    24.0\n",
            "dtype: float64\n"
          ]
        }
      ]
    },
    {
      "cell_type": "code",
      "source": [
        "import pandas as pd\n",
        "fruit_dict={'apple':60,'banana':30,'cherry':20}\n",
        "fruit_series=pd.Series(fruit_dict)\n",
        "new_series=pd.Series({'banana':10,'cherry':5,'date':5})\n",
        "combined_series=fruit_series+new_series\n",
        "print(combined_series)"
      ],
      "metadata": {
        "id": "WIczrcp1wWBE",
        "colab": {
          "base_uri": "https://localhost:8080/"
        },
        "outputId": "ed2b6b92-64ca-4386-c6dc-de02161b1a68"
      },
      "execution_count": null,
      "outputs": [
        {
          "output_type": "stream",
          "name": "stdout",
          "text": [
            "apple      NaN\n",
            "banana    40.0\n",
            "cherry    25.0\n",
            "date       NaN\n",
            "dtype: float64\n"
          ]
        }
      ]
    },
    {
      "cell_type": "code",
      "source": [
        "import pandas as pd\n",
        "numbers=pd.Series([10,20,30,40,50])\n",
        "mean_value=numbers.mean()\n",
        "std_dev=numbers.std()\n",
        "print(\"mean:\",mean_value)\n",
        "print(\"standard deviation\",std_dev)"
      ],
      "metadata": {
        "colab": {
          "base_uri": "https://localhost:8080/"
        },
        "id": "Gb8x3C7qxtPt",
        "outputId": "babfbc5a-9978-4590-8728-9f532cca711e"
      },
      "execution_count": null,
      "outputs": [
        {
          "output_type": "stream",
          "name": "stdout",
          "text": [
            "mean: 30.0\n",
            "standard deviation 15.811388300841896\n"
          ]
        }
      ]
    },
    {
      "cell_type": "code",
      "source": [
        "import pandas as pd\n",
        "sub1=pd.Series({'alice':88,'bob':78,'charlie':92})\n",
        "sub2=pd.Series({'alice':88,'bob':82,'david':75})\n",
        "total_marks=sub1.add(sub2,fill_value=0)\n",
        "print(total_marks)"
      ],
      "metadata": {
        "colab": {
          "base_uri": "https://localhost:8080/"
        },
        "id": "50TDNWniyxSa",
        "outputId": "57c497f0-8ffe-4f9f-8313-2d9f726275c7"
      },
      "execution_count": null,
      "outputs": [
        {
          "output_type": "stream",
          "name": "stdout",
          "text": [
            "alice      176.0\n",
            "bob        160.0\n",
            "charlie     92.0\n",
            "david       75.0\n",
            "dtype: float64\n"
          ]
        }
      ]
    },
    {
      "cell_type": "code",
      "source": [
        "import pandas as pd\n",
        "timestamps=pd.Series(pd.to_datetime(['2025-01-15','2025-05-22','2025-07-14','2025-12-3']))\n",
        "months=timestamps.dt.month\n",
        "print(months)\n",
        "month_names=timestamps.dt.month_name()\n",
        "print(month_names)\n",
        "\n"
      ],
      "metadata": {
        "colab": {
          "base_uri": "https://localhost:8080/"
        },
        "id": "9emCtT7lzzAB",
        "outputId": "5b21f5b0-efd4-4b27-f980-25fac9f6d3cf"
      },
      "execution_count": null,
      "outputs": [
        {
          "output_type": "stream",
          "name": "stdout",
          "text": [
            "0     1\n",
            "1     5\n",
            "2     7\n",
            "3    12\n",
            "dtype: int32\n",
            "0     January\n",
            "1         May\n",
            "2        July\n",
            "3    December\n",
            "dtype: object\n"
          ]
        }
      ]
    },
    {
      "cell_type": "code",
      "source": [
        "import pandas as pd\n",
        "data=pd.Series({'a':10,'b':50,'c':30,'d':40})\n",
        "max_index=data.idxmax()\n",
        "print(\"index of maximum value: \",max_index)"
      ],
      "metadata": {
        "colab": {
          "base_uri": "https://localhost:8080/"
        },
        "id": "y8y_aYam14-n",
        "outputId": "f6cedb1f-a112-484f-e211-1de0a142affb"
      },
      "execution_count": null,
      "outputs": [
        {
          "output_type": "stream",
          "name": "stdout",
          "text": [
            "index of maximum value:  b\n"
          ]
        }
      ]
    },
    {
      "cell_type": "code",
      "source": [
        "import pandas as pd\n",
        "data={'name':['rupa','sita','geeta'],\n",
        "      'age':[25,30,35],\n",
        "      'city':['bagalkot','solapur','gulbarga']}\n",
        "df=pd.DataFrame(data)\n",
        "print(df)"
      ],
      "metadata": {
        "colab": {
          "base_uri": "https://localhost:8080/"
        },
        "id": "_DjU0K9N49O0",
        "outputId": "2f1c4b7a-64b2-475f-fe53-30497d992eca"
      },
      "execution_count": null,
      "outputs": [
        {
          "output_type": "stream",
          "name": "stdout",
          "text": [
            "    name  age      city\n",
            "0   rupa   25  bagalkot\n",
            "1   sita   30   solapur\n",
            "2  geeta   35  gulbarga\n"
          ]
        }
      ]
    },
    {
      "cell_type": "code",
      "source": [
        "import pandas as pd\n",
        "data={'name':['rupa','sita','geeta'],\n",
        "      'age':[25,30,35],\n",
        "      'city':['bagalkot','solapur','gulbarga']}\n",
        "df=pd.DataFrame(data)\n",
        "df_sort=df.sort_values(by='age',ascending=[False])\n",
        "print(df)"
      ],
      "metadata": {
        "colab": {
          "base_uri": "https://localhost:8080/"
        },
        "id": "T5mXDwDm5qcd",
        "outputId": "2bd9bdda-9b42-407c-8ade-fdb3194857a4"
      },
      "execution_count": null,
      "outputs": [
        {
          "output_type": "stream",
          "name": "stdout",
          "text": [
            "    name  age      city\n",
            "0   rupa   25  bagalkot\n",
            "1   sita   30   solapur\n",
            "2  geeta   35  gulbarga\n"
          ]
        }
      ]
    },
    {
      "cell_type": "code",
      "source": [
        "import pandas as pd\n",
        "data={'name':['rupa','sita','geeta'],\n",
        "      'age':[25,30,35],\n",
        "      'city':['bagalkot','solapur','gulbarga']}\n",
        "df=pd.DataFrame(data)\n",
        "salary=[50000,60000,70000]\n",
        "df['salary']=salary\n",
        "print(\"new dataframe after inserting new column 'salary'\")\n",
        "print(df)"
      ],
      "metadata": {
        "colab": {
          "base_uri": "https://localhost:8080/"
        },
        "id": "MLqubcGh7FjD",
        "outputId": "e4498c68-2da4-4f06-e732-cb35e6fe5c45"
      },
      "execution_count": null,
      "outputs": [
        {
          "output_type": "stream",
          "name": "stdout",
          "text": [
            "new dataframe after inserting new column 'salary'\n",
            "    name  age      city  salary\n",
            "0   rupa   25  bagalkot   50000\n",
            "1   sita   30   solapur   60000\n",
            "2  geeta   35  gulbarga   70000\n"
          ]
        }
      ]
    },
    {
      "cell_type": "code",
      "source": [
        "import pandas as pd\n",
        "data={'name':['rupa','sita','geeta'],\n",
        "      'age':[25,30,35],\n",
        "      'city':['bagalkot','solapur','gulbarga']}\n",
        "df=pd.DataFrame(data)\n",
        "age_above_30=df[df['age']>30]\n",
        "print(age_above_30)"
      ],
      "metadata": {
        "colab": {
          "base_uri": "https://localhost:8080/"
        },
        "id": "vhYXvUwa7y8J",
        "outputId": "eb7df133-5900-4102-dd3b-7d4c581dda2c"
      },
      "execution_count": null,
      "outputs": [
        {
          "output_type": "stream",
          "name": "stdout",
          "text": [
            "    name  age      city\n",
            "2  geeta   35  gulbarga\n"
          ]
        }
      ]
    },
    {
      "cell_type": "code",
      "source": [
        "import pandas as pd\n",
        "data={'name':['rupa','sita','geeta'],\n",
        "      'age':[25,30,35],\n",
        "      'city':['bagalkot','solapur','gulbarga']}\n",
        "df=pd.DataFrame(data)\n",
        "df['city']=df['city'].replace('solapur','bagalkot')\n",
        "print(df)"
      ],
      "metadata": {
        "colab": {
          "base_uri": "https://localhost:8080/"
        },
        "id": "m-WuNiBN8G6K",
        "outputId": "e37a7f84-6014-4ea8-d001-7b54224d2cc4"
      },
      "execution_count": null,
      "outputs": [
        {
          "output_type": "stream",
          "name": "stdout",
          "text": [
            "    name  age      city\n",
            "0   rupa   25  bagalkot\n",
            "1   sita   30  bagalkot\n",
            "2  geeta   35  gulbarga\n"
          ]
        }
      ]
    },
    {
      "cell_type": "code",
      "source": [
        "import pandas as pd\n",
        "data={'name':['rupa','sita','geeta'],\n",
        "      'age':[25,30,35],\n",
        "      'city':['bagalkot','solapur','gulbarga']}\n",
        "df=pd.DataFrame(data)\n",
        "df=df.drop('city',axis=1)\n",
        "print(df)"
      ],
      "metadata": {
        "colab": {
          "base_uri": "https://localhost:8080/"
        },
        "id": "5N0xUwlb8lTZ",
        "outputId": "825b9204-169e-459d-a4c3-66b2c96ff13d"
      },
      "execution_count": null,
      "outputs": [
        {
          "output_type": "stream",
          "name": "stdout",
          "text": [
            "    name  age\n",
            "0   rupa   25\n",
            "1   sita   30\n",
            "2  geeta   35\n"
          ]
        }
      ]
    },
    {
      "cell_type": "code",
      "source": [
        "import pandas as pd\n",
        "data={'name':['rupa','sita','geeta'],\n",
        "      'age':[25,30,35],\n",
        "      'city':['bagalkot','solapur','gulbarga']}\n",
        "df=pd.DataFrame(data)\n",
        "average=df['age'].mean()\n",
        "print(\"average\",average)"
      ],
      "metadata": {
        "colab": {
          "base_uri": "https://localhost:8080/"
        },
        "id": "OCRKGkbC9TD8",
        "outputId": "bf1abf8f-d3de-4ded-b67b-58e09ee9cd5d"
      },
      "execution_count": null,
      "outputs": [
        {
          "output_type": "stream",
          "name": "stdout",
          "text": [
            "average 30.0\n"
          ]
        }
      ]
    },
    {
      "cell_type": "code",
      "source": [
        "import pandas as pd\n",
        "data={'name':['rupa','sita','geeta'],\n",
        "      'age':[25,30,35],\n",
        "      'city':['bagalkot','solapur','gulbarga']}\n",
        "df=pd.DataFrame(data)\n",
        "is_from_bagalkot=(df['city']=='bagalkot').any()\n",
        "print(\"is anyone from bagalkot ?\",is_from_bagalkot)\n"
      ],
      "metadata": {
        "colab": {
          "base_uri": "https://localhost:8080/"
        },
        "id": "qr5eHZ-z9pAg",
        "outputId": "274e3e6f-8642-42cd-97ad-c28148fdb800"
      },
      "execution_count": null,
      "outputs": [
        {
          "output_type": "stream",
          "name": "stdout",
          "text": [
            "is anyone from bagalkot ? True\n"
          ]
        }
      ]
    },
    {
      "cell_type": "code",
      "source": [
        "import pandas as pd\n",
        "data={'name':['rupa','sita','geeta'],\n",
        "      'age':[25,30,35],\n",
        "      'city':['bagalkot','solapur','gulbarga']}\n",
        "df=pd.DataFrame(data)\n",
        "info1=df[df['name']=='sita']\n",
        "print(info1)"
      ],
      "metadata": {
        "colab": {
          "base_uri": "https://localhost:8080/"
        },
        "id": "BbLEYa9B-PbI",
        "outputId": "0b2cb5d4-fc11-4dd8-bd75-7e8b2e017a8d"
      },
      "execution_count": null,
      "outputs": [
        {
          "output_type": "stream",
          "name": "stdout",
          "text": [
            "   name  age     city\n",
            "1  sita   30  solapur\n"
          ]
        }
      ]
    },
    {
      "cell_type": "code",
      "source": [
        "import pandas as pd\n",
        "data={'name':['rupa','sita','geeta'],\n",
        "      'age':[25,30,35],\n",
        "      'city':['bagalkot','solapur','gulbarga']}\n",
        "df=pd.DataFrame(data)\n",
        "count_c=df['city'].value_counts()\n",
        "print(count_c)"
      ],
      "metadata": {
        "colab": {
          "base_uri": "https://localhost:8080/"
        },
        "id": "dLu-UARc_R0w",
        "outputId": "45c6ff5f-724c-4d56-a692-aa6b922a428b"
      },
      "execution_count": null,
      "outputs": [
        {
          "output_type": "stream",
          "name": "stdout",
          "text": [
            "city\n",
            "bagalkot    1\n",
            "solapur     1\n",
            "gulbarga    1\n",
            "Name: count, dtype: int64\n"
          ]
        }
      ]
    },
    {
      "cell_type": "code",
      "source": [
        "import pandas as pd\n",
        "data={'name':['rupa','sita','geeta'],\n",
        "      'age':[25,30,35],\n",
        "      'city':['bagalkot','solapur','gulbarga'],\n",
        "      'salary':[50000,60000,70000]}\n",
        "df=pd.DataFrame(data)\n",
        "max_s=df[df['salary']==df['salary'].max()]\n",
        "print(max_s)"
      ],
      "metadata": {
        "colab": {
          "base_uri": "https://localhost:8080/"
        },
        "id": "mvvDSsmn_mz-",
        "outputId": "344a0276-5243-40ee-d97c-48f8f09a5266"
      },
      "execution_count": null,
      "outputs": [
        {
          "output_type": "stream",
          "name": "stdout",
          "text": [
            "    name  age      city  salary\n",
            "2  geeta   35  gulbarga   70000\n"
          ]
        }
      ]
    },
    {
      "cell_type": "code",
      "source": [
        "import numpy as np\n",
        "arr=np.array([1,2,3,4])\n",
        "print(arr.sum())\n",
        "print(arr.mean())\n",
        "print(arr.max())\n",
        "print(arr.std())"
      ],
      "metadata": {
        "colab": {
          "base_uri": "https://localhost:8080/"
        },
        "id": "9Yml4bHjV9eG",
        "outputId": "cf6ab6bb-fc11-44ae-d5eb-2b3b41944836"
      },
      "execution_count": null,
      "outputs": [
        {
          "output_type": "stream",
          "name": "stdout",
          "text": [
            "10\n",
            "2.5\n",
            "4\n",
            "1.118033988749895\n"
          ]
        }
      ]
    },
    {
      "cell_type": "code",
      "source": [
        "import numpy as np\n",
        "import random\n",
        "array=np.random.randint(4,size=(2,2))\n",
        "print(\"input array:\\n\",array)\n",
        "print(\"x axis\",np.max(array,axis=1))\n",
        "print(\"y axis\",np.max(array,axis=0))"
      ],
      "metadata": {
        "colab": {
          "base_uri": "https://localhost:8080/"
        },
        "id": "uCGLsQa6Yyom",
        "outputId": "ee79ac13-536b-42e3-e983-f7df96f470b2"
      },
      "execution_count": null,
      "outputs": [
        {
          "output_type": "stream",
          "name": "stdout",
          "text": [
            "input array:\n",
            " [[0 2]\n",
            " [1 1]]\n",
            "x axis [2 1]\n",
            "y axis [1 2]\n"
          ]
        }
      ]
    },
    {
      "cell_type": "code",
      "source": [
        "import numpy as np\n",
        "import random\n",
        "array=np.random.randint(4,size=(2,2))\n",
        "print(\"input array:\\n\",array)\n",
        "print(\"x axis\",np.min(array,axis=1))\n",
        "print(\"y axis\",np.min(array,axis=0))"
      ],
      "metadata": {
        "colab": {
          "base_uri": "https://localhost:8080/"
        },
        "id": "Er2t2bAsZ0sd",
        "outputId": "8da7333d-8406-4ef4-dce4-e8bc78530619"
      },
      "execution_count": null,
      "outputs": [
        {
          "output_type": "stream",
          "name": "stdout",
          "text": [
            "input array:\n",
            " [[0 0]\n",
            " [1 3]]\n",
            "x axis [0 1]\n",
            "y axis [0 0]\n"
          ]
        }
      ]
    },
    {
      "cell_type": "code",
      "source": [
        "import numpy as np\n",
        "arr=np.array([1,2,3])\n",
        "print(arr+2)"
      ],
      "metadata": {
        "colab": {
          "base_uri": "https://localhost:8080/"
        },
        "id": "OT9GC52RbZVF",
        "outputId": "612eb335-cde7-44cf-ab8d-a8ef65a713f6"
      },
      "execution_count": null,
      "outputs": [
        {
          "output_type": "stream",
          "name": "stdout",
          "text": [
            "[3 4 5]\n"
          ]
        }
      ]
    },
    {
      "cell_type": "code",
      "source": [
        "import numpy as np\n",
        "arr=np.array([1,2,3])\n",
        "print(np.sin(arr))"
      ],
      "metadata": {
        "colab": {
          "base_uri": "https://localhost:8080/"
        },
        "id": "3x5dWmxUcUop",
        "outputId": "0e557f67-9aa5-4310-db54-4d4d4a6e8ca5"
      },
      "execution_count": null,
      "outputs": [
        {
          "output_type": "stream",
          "name": "stdout",
          "text": [
            "[0.84147098 0.90929743 0.14112001]\n"
          ]
        }
      ]
    },
    {
      "cell_type": "code",
      "source": [
        "arr=np.array([1,2,3])\n",
        "arr2=np.array([1,2,3])\n",
        "print(arr+arr2)"
      ],
      "metadata": {
        "colab": {
          "base_uri": "https://localhost:8080/"
        },
        "id": "lSsnB6j9dTjP",
        "outputId": "c22f24f6-8613-4fcc-a922-17f703b4e8e6"
      },
      "execution_count": null,
      "outputs": [
        {
          "output_type": "stream",
          "name": "stdout",
          "text": [
            "[2 4 6]\n"
          ]
        }
      ]
    },
    {
      "cell_type": "code",
      "source": [
        "import numpy as np\n",
        "arr=np.array([1,2,3])\n",
        "squared=list(map(lambda x:x**2,arr))\n",
        "print(\"square\",squared)"
      ],
      "metadata": {
        "id": "qqvqcAFAdz5B",
        "colab": {
          "base_uri": "https://localhost:8080/"
        },
        "outputId": "1ab82c15-1800-41db-d4d3-20f558411a0f"
      },
      "execution_count": null,
      "outputs": [
        {
          "output_type": "stream",
          "name": "stdout",
          "text": [
            "square [np.int64(1), np.int64(4), np.int64(9)]\n"
          ]
        }
      ]
    },
    {
      "cell_type": "code",
      "source": [
        "def square(number):\n",
        "      return number*number\n",
        "nums= [1,2,3,4]\n",
        "squared_numbers = list(map(square,nums))\n",
        "print(squared_numbers)"
      ],
      "metadata": {
        "colab": {
          "base_uri": "https://localhost:8080/"
        },
        "id": "oTTqtfDJrovX",
        "outputId": "58ac9f6f-52a3-4863-e8f4-8d89078131d7"
      },
      "execution_count": null,
      "outputs": [
        {
          "output_type": "stream",
          "name": "stdout",
          "text": [
            "[1, 4, 9, 16]\n"
          ]
        }
      ]
    },
    {
      "cell_type": "code",
      "source": [
        "nums1= [1,2,3,4,5,6]\n",
        "squareOfnums1 = list(map(lambda n:n*n,nums1))\n",
        "print(squareOfnums1)"
      ],
      "metadata": {
        "colab": {
          "base_uri": "https://localhost:8080/"
        },
        "id": "lGM2u2kOswuF",
        "outputId": "4a2a87b1-fabd-4ec6-98f8-073708423d8b"
      },
      "execution_count": null,
      "outputs": [
        {
          "output_type": "stream",
          "name": "stdout",
          "text": [
            "[1, 4, 9, 16, 25, 36]\n"
          ]
        }
      ]
    },
    {
      "cell_type": "code",
      "source": [
        "def is_even(n):\n",
        "   if n % 2 ==0:\n",
        "     return True\n",
        "   else:\n",
        "    return False\n",
        "nums = [1,2,3,4]\n",
        "evens = list(filter(is_even,nums))\n",
        "print(evens)"
      ],
      "metadata": {
        "colab": {
          "base_uri": "https://localhost:8080/"
        },
        "id": "SAk2N09mtsUV",
        "outputId": "dc5632bb-e185-4cd4-9c07-304f085319f3"
      },
      "execution_count": null,
      "outputs": [
        {
          "output_type": "stream",
          "name": "stdout",
          "text": [
            "[2, 4]\n"
          ]
        }
      ]
    },
    {
      "cell_type": "code",
      "source": [
        "arr=[1,2,3,4]\n",
        "even=list(filter(lambda x:x%2==0,arr))\n",
        "print(\"even\",even)"
      ],
      "metadata": {
        "colab": {
          "base_uri": "https://localhost:8080/"
        },
        "id": "NtWGePHzu-dW",
        "outputId": "697e2118-9ba2-4ad7-ccf3-ce579cd77f48"
      },
      "execution_count": null,
      "outputs": [
        {
          "output_type": "stream",
          "name": "stdout",
          "text": [
            "even [2, 4]\n"
          ]
        }
      ]
    },
    {
      "cell_type": "code",
      "source": [
        "from functools import reduce\n",
        "def sum_all(a,b):\n",
        "   return a+b\n",
        "nums = [1,2,3,4]\n",
        "sum = reduce(sum_all,nums)\n",
        "print(sum)\n"
      ],
      "metadata": {
        "colab": {
          "base_uri": "https://localhost:8080/"
        },
        "id": "kVe-Qyseva7j",
        "outputId": "cb55e146-8afc-46be-f235-c2e0b2c756c8"
      },
      "execution_count": null,
      "outputs": [
        {
          "output_type": "stream",
          "name": "stdout",
          "text": [
            "10\n"
          ]
        }
      ]
    },
    {
      "cell_type": "code",
      "source": [
        "from functools import reduce\n",
        "nums=[1,2,3,4,5]\n",
        "total = reduce(lambda x, y: x + y, nums)\n",
        "print(\"Sum using reduce:\", total)"
      ],
      "metadata": {
        "colab": {
          "base_uri": "https://localhost:8080/"
        },
        "id": "XQYrasITwGIq",
        "outputId": "00021fd4-5cef-4285-98d1-0a452eefc296"
      },
      "execution_count": null,
      "outputs": [
        {
          "output_type": "stream",
          "name": "stdout",
          "text": [
            "Sum using reduce: 15\n"
          ]
        }
      ]
    },
    {
      "cell_type": "code",
      "source": [
        "nums = [1,2,3,4]\n",
        "evens = list(filter(lambda n:n%2==0,nums))\n",
        "print(evens)"
      ],
      "metadata": {
        "colab": {
          "base_uri": "https://localhost:8080/"
        },
        "id": "kVeg5q-qwO9i",
        "outputId": "265d77f8-958f-451e-f164-7458a57c01cb"
      },
      "execution_count": null,
      "outputs": [
        {
          "output_type": "stream",
          "name": "stdout",
          "text": [
            "[2, 4]\n"
          ]
        }
      ]
    },
    {
      "cell_type": "code",
      "source": [
        "import pandas as pd\n",
        "data = pd.Series([10, 20, 30, 40], index=['a', 'b', 'c', 'd'])\n",
        "print(data)"
      ],
      "metadata": {
        "colab": {
          "base_uri": "https://localhost:8080/"
        },
        "id": "QJXdzCFWxAph",
        "outputId": "d1af1df3-ab45-4e1b-89ae-29e80b54fe95"
      },
      "execution_count": null,
      "outputs": [
        {
          "output_type": "stream",
          "name": "stdout",
          "text": [
            "a    10\n",
            "b    20\n",
            "c    30\n",
            "d    40\n",
            "dtype: int64\n"
          ]
        }
      ]
    },
    {
      "cell_type": "code",
      "source": [
        "import pandas as pd\n",
        "data = {\n",
        " 'Name': ['Alice', 'Bob', 'Charlie'],\n",
        " 'Age': [25, 30, 35],\n",
        " 'City': ['Delhi', 'Mumbai', 'Bangalore']\n",
        "}\n",
        "df = pd.DataFrame(data)\n",
        "print(df)"
      ],
      "metadata": {
        "colab": {
          "base_uri": "https://localhost:8080/"
        },
        "id": "PnvS34R4xgkz",
        "outputId": "5e74ff50-6515-49bd-b0b0-2ccc8d50843e"
      },
      "execution_count": null,
      "outputs": [
        {
          "output_type": "stream",
          "name": "stdout",
          "text": [
            "      Name  Age       City\n",
            "0    Alice   25      Delhi\n",
            "1      Bob   30     Mumbai\n",
            "2  Charlie   35  Bangalore\n"
          ]
        }
      ]
    },
    {
      "cell_type": "code",
      "source": [
        "import pandas as pd\n",
        "# list of strings\n",
        "lst = ['Apple', 'Mango', 'Banana', 'Pine Apple', 'Grapes', 'Watermelon']\n",
        "# Calling DataFrame constructor on list\n",
        "df = pd.DataFrame(lst)\n",
        "print(df)"
      ],
      "metadata": {
        "id": "CpLPAA863XOV",
        "colab": {
          "base_uri": "https://localhost:8080/"
        },
        "outputId": "4ce297cc-7be2-4913-87ae-ac901d5cebcc"
      },
      "execution_count": null,
      "outputs": [
        {
          "output_type": "stream",
          "name": "stdout",
          "text": [
            "            0\n",
            "0       Apple\n",
            "1       Mango\n",
            "2      Banana\n",
            "3  Pine Apple\n",
            "4      Grapes\n",
            "5  Watermelon\n"
          ]
        }
      ]
    },
    {
      "cell_type": "code",
      "source": [
        "import pandas as pd\n",
        "# intialise data of lists.\n",
        "data ={'Name':['Tom', 'nick', 'krish', 'jack'], 'Age':[20, 21, 19, 18]}\n",
        "# Create DataFrame\n",
        "df = pd.DataFrame(data)\n",
        "print(df)"
      ],
      "metadata": {
        "colab": {
          "base_uri": "https://localhost:8080/"
        },
        "id": "TiGSr9zj-6HB",
        "outputId": "98bbb4f6-5758-41bd-8167-9deba84c0c02"
      },
      "execution_count": null,
      "outputs": [
        {
          "output_type": "stream",
          "name": "stdout",
          "text": [
            "    Name  Age\n",
            "0    Tom   20\n",
            "1   nick   21\n",
            "2  krish   19\n",
            "3   jack   18\n"
          ]
        }
      ]
    },
    {
      "cell_type": "code",
      "source": [
        "import pandas as pd\n",
        "data = {\n",
        " 'Department': ['HR', 'HR', 'IT', 'IT', 'Finance', 'Finance'],\n",
        " 'Employee': ['Alice', 'Bob', 'Charlie', 'David', 'Eva', 'Frank'],\n",
        " 'Salary': [50000, 55000, 60000, 65000, 70000, 72000],\n",
        " 'Age': [25, 30, 28, 32, 40, 38]\n",
        "}\n",
        "df = pd.DataFrame(data)\n",
        "print(df)"
      ],
      "metadata": {
        "colab": {
          "base_uri": "https://localhost:8080/"
        },
        "id": "FQNHKfRw_JCu",
        "outputId": "cc41cb06-64d5-4a5b-d3a1-a1e9ab31e242"
      },
      "execution_count": null,
      "outputs": [
        {
          "output_type": "stream",
          "name": "stdout",
          "text": [
            "  Department Employee  Salary  Age\n",
            "0         HR    Alice   50000   25\n",
            "1         HR      Bob   55000   30\n",
            "2         IT  Charlie   60000   28\n",
            "3         IT    David   65000   32\n",
            "4    Finance      Eva   70000   40\n",
            "5    Finance    Frank   72000   38\n"
          ]
        }
      ]
    },
    {
      "cell_type": "code",
      "source": [
        "import pandas as pd\n",
        "data = {\n",
        " 'Department': ['HR', 'HR', 'IT', 'IT', 'Finance', 'Finance'],\n",
        " 'Employee': ['Alice', 'Bob', 'Charlie', 'David', 'Eva', 'Frank'],\n",
        " 'Salary': [50000, 55000, 60000, 65000, 70000, 72000],\n",
        " 'Age': [25, 30, 28, 32, 40, 38]\n",
        "}\n",
        "df = pd.DataFrame(data)\n",
        "print(df['Salary'].mean())\n",
        "# Max age\n",
        "print(df['Age'].max())"
      ],
      "metadata": {
        "colab": {
          "base_uri": "https://localhost:8080/"
        },
        "id": "VoFKHoyi_OW1",
        "outputId": "2d16bcd0-08ff-4d7f-faf7-e00e567b96c5"
      },
      "execution_count": null,
      "outputs": [
        {
          "output_type": "stream",
          "name": "stdout",
          "text": [
            "62000.0\n",
            "40\n"
          ]
        }
      ]
    },
    {
      "cell_type": "code",
      "source": [
        "import pandas as pd\n",
        "data = {\n",
        " 'Department': ['HR', 'HR', 'IT', 'IT', 'Finance', 'Finance'],\n",
        " 'Employee': ['Alice', 'Bob', 'Charlie', 'David', 'Eva', 'Frank'],\n",
        " 'Salary': [50000, 55000, 60000, 65000, 70000, 72000],\n",
        " 'Age': [25, 30, 28, 32, 40, 38]\n",
        "}\n",
        "df = pd.DataFrame(data)\n",
        "grouped = df.groupby('Department')['Salary'].mean()\n",
        "print(grouped)"
      ],
      "metadata": {
        "colab": {
          "base_uri": "https://localhost:8080/"
        },
        "id": "vByONfmV_Zok",
        "outputId": "742f95be-c5ba-46cb-9ea6-16aaf43ac168"
      },
      "execution_count": null,
      "outputs": [
        {
          "output_type": "stream",
          "name": "stdout",
          "text": [
            "Department\n",
            "Finance    71000.0\n",
            "HR         52500.0\n",
            "IT         62500.0\n",
            "Name: Salary, dtype: float64\n"
          ]
        }
      ]
    },
    {
      "cell_type": "code",
      "source": [
        "import pandas as pd\n",
        "data = {\n",
        " 'Department': ['HR', 'HR', 'IT', 'IT', 'Finance', 'Finance'],\n",
        " 'Employee': ['Alice', 'Bob', 'Charlie', 'David', 'Eva', 'Frank'],\n",
        " 'Salary': [50000, 55000, 60000, 65000, 70000, 72000],\n",
        " 'Age': [25, 30, 28, 32, 40, 38]\n",
        "}\n",
        "grouped = df.groupby('Department')['Salary'].agg(['mean', 'max', 'min'])\n",
        "print(grouped)\n"
      ],
      "metadata": {
        "colab": {
          "base_uri": "https://localhost:8080/"
        },
        "id": "_UeZMz4t_hxc",
        "outputId": "c375d4d5-4ece-4c40-d61e-820210ff41d0"
      },
      "execution_count": null,
      "outputs": [
        {
          "output_type": "stream",
          "name": "stdout",
          "text": [
            "               mean    max    min\n",
            "Department                       \n",
            "Finance     71000.0  72000  70000\n",
            "HR          52500.0  55000  50000\n",
            "IT          62500.0  65000  60000\n"
          ]
        }
      ]
    },
    {
      "cell_type": "code",
      "source": [
        "import pandas as pd\n",
        "data = {\n",
        " 'Department': ['HR', 'HR', 'IT', 'IT', 'Finance', 'Finance'],\n",
        " 'Employee': ['Alice', 'Bob', 'Charlie', 'David', 'Eva', 'Frank'],\n",
        " 'Salary': [50000, 55000, 60000, 65000, 70000, 72000],\n",
        " 'Age': [25, 30, 28, 32, 40, 38]\n",
        "}\n",
        "df=pd.DataFrame(data)\n",
        "df['Location'] = ['Mumbai', 'Delhi', 'Mumbai', 'Delhi', 'Mumbai', 'Delhi']\n",
        "# Group by Department and Location\n",
        "grouped = df.groupby(['Department', 'Location'])['Salary'].mean()\n",
        "print(grouped)"
      ],
      "metadata": {
        "colab": {
          "base_uri": "https://localhost:8080/"
        },
        "id": "fCSYaQ2y1buf",
        "outputId": "b3ef1bc4-e8bb-44ed-9e7b-93c9ca507e47"
      },
      "execution_count": null,
      "outputs": [
        {
          "output_type": "stream",
          "name": "stdout",
          "text": [
            "Department  Location\n",
            "Finance     Delhi       72000.0\n",
            "            Mumbai      70000.0\n",
            "HR          Delhi       55000.0\n",
            "            Mumbai      50000.0\n",
            "IT          Delhi       65000.0\n",
            "            Mumbai      60000.0\n",
            "Name: Salary, dtype: float64\n"
          ]
        }
      ]
    },
    {
      "cell_type": "code",
      "source": [
        "import pandas as pd\n",
        "data = {\n",
        " 'Department': ['HR', 'HR', 'IT', 'IT', 'Finance', 'Finance'],\n",
        " 'Employee': ['Alice', 'Bob', 'Charlie', 'David', 'Eva', 'Frank'],\n",
        " 'Salary': [50000, 55000, 60000, 65000, 70000, 72000],\n",
        " 'Age': [25, 30, 28, 32, 40, 38]\n",
        "}\n",
        "df=pd.DataFrame(data)\n",
        "result = df.groupby('Department').agg({'Salary': 'mean',\n",
        "                                       'Age': ['min', 'max']\n",
        "})\n",
        "print(result)"
      ],
      "metadata": {
        "colab": {
          "base_uri": "https://localhost:8080/"
        },
        "id": "s_V1zXZa4TEE",
        "outputId": "2c5f5e0c-eed1-45b5-da07-75c29cf05749"
      },
      "execution_count": null,
      "outputs": [
        {
          "output_type": "stream",
          "name": "stdout",
          "text": [
            "             Salary Age    \n",
            "               mean min max\n",
            "Department                 \n",
            "Finance     71000.0  38  40\n",
            "HR          52500.0  25  30\n",
            "IT          62500.0  28  32\n"
          ]
        }
      ]
    },
    {
      "cell_type": "code",
      "source": [
        "import pandas as pd\n",
        "d1 = {\"Name\": [\"Pankaj\", \"Lisa\", \"David\"], \"ID\": [1, 2, 3], \"Role\": [\"CEO\", \"Editor\", \"Author\"]}\n",
        "df = pd.DataFrame(d1)\n",
        "print(df)\n",
        "df_melted = pd.melt(df, id_vars=[\"ID\"],\n",
        "value_vars=[\"Name\", \"Role\"])\n",
        "print(df_melted)"
      ],
      "metadata": {
        "colab": {
          "base_uri": "https://localhost:8080/"
        },
        "id": "swb2DN0w6Xly",
        "outputId": "07af649d-d0f6-44a1-f9a5-0dfaa07614a4"
      },
      "execution_count": null,
      "outputs": [
        {
          "output_type": "stream",
          "name": "stdout",
          "text": [
            "     Name  ID    Role\n",
            "0  Pankaj   1     CEO\n",
            "1    Lisa   2  Editor\n",
            "2   David   3  Author\n",
            "   ID variable   value\n",
            "0   1     Name  Pankaj\n",
            "1   2     Name    Lisa\n",
            "2   3     Name   David\n",
            "3   1     Role     CEO\n",
            "4   2     Role  Editor\n",
            "5   3     Role  Author\n"
          ]
        }
      ]
    },
    {
      "cell_type": "code",
      "source": [
        "data = {\n",
        " 'Date': ['2024-01-01', '2024-01-01', '2024-01-02', '2024-01-02'],\n",
        " 'City': ['Mumbai', 'Delhi', 'Mumbai', 'Delhi'],\n",
        " 'Temperature': [33, 28, 34, 27]\n",
        "}\n",
        "df = pd.DataFrame(data)\n",
        "print(\"Original:\\n\", df)\n",
        "# Pivot the data\n",
        "pivoted = df.pivot(index='Date', columns='City', values='Temperature')\n",
        "print(\"\\nPivoted:\\n\", pivoted)"
      ],
      "metadata": {
        "colab": {
          "base_uri": "https://localhost:8080/"
        },
        "id": "yW3D2XLy7TWD",
        "outputId": "23318dad-637b-4890-fe6f-d590bf42fd63"
      },
      "execution_count": null,
      "outputs": [
        {
          "output_type": "stream",
          "name": "stdout",
          "text": [
            "Original:\n",
            "          Date    City  Temperature\n",
            "0  2024-01-01  Mumbai           33\n",
            "1  2024-01-01   Delhi           28\n",
            "2  2024-01-02  Mumbai           34\n",
            "3  2024-01-02   Delhi           27\n",
            "\n",
            "Pivoted:\n",
            " City        Delhi  Mumbai\n",
            "Date                     \n",
            "2024-01-01     28      33\n",
            "2024-01-02     27      34\n"
          ]
        }
      ]
    },
    {
      "cell_type": "code",
      "source": [
        "import pandas as pd\n",
        "# Create a sample DataFrame\n",
        "data = {\n",
        " 'Student': ['Alice', 'Bob', 'Charlie'],\n",
        " 'Math': [85, 90, 78],\n",
        " 'Science': [92, 88, 85],\n",
        " 'English': [75, 80, 72]\n",
        "}\n",
        "df = pd.DataFrame(data)\n",
        "print(\"Original Wide DataFrame:\\n\", df)"
      ],
      "metadata": {
        "colab": {
          "base_uri": "https://localhost:8080/"
        },
        "id": "OfYmEHSa8Ea5",
        "outputId": "20b2d189-a85d-4e53-d8c3-1852c4363b30"
      },
      "execution_count": null,
      "outputs": [
        {
          "output_type": "stream",
          "name": "stdout",
          "text": [
            "Original Wide DataFrame:\n",
            "    Student  Math  Science  English\n",
            "0    Alice    85       92       75\n",
            "1      Bob    90       88       80\n",
            "2  Charlie    78       85       72\n"
          ]
        }
      ]
    },
    {
      "cell_type": "code",
      "source": [
        "df = pd.read_csv('/content/STUDENTS1.csv')\n",
        "# Writing to CSV\n",
        "df.to_csv('output.csv', index=False)\n",
        "print (df)"
      ],
      "metadata": {
        "colab": {
          "base_uri": "https://localhost:8080/"
        },
        "id": "IwHJKXUm89cZ",
        "outputId": "18a5a652-107e-427e-be0e-8f29895ddba6"
      },
      "execution_count": null,
      "outputs": [
        {
          "output_type": "stream",
          "name": "stdout",
          "text": [
            "      NAME    REGNO  S1  S2\n",
            "0  SANJANA  23CS043  87  99\n",
            "1   SIMRAN  23CS055  85  98\n"
          ]
        }
      ]
    },
    {
      "cell_type": "code",
      "source": [
        "import pandas as pd\n",
        "data = {\n",
        " 'Student': ['Alice', 'Bob', 'Charlie'],\n",
        " 'Math': [85, 90, 78],\n",
        " 'Science': [92, 88, 85],\n",
        " 'English': [75, 80, 72]\n",
        "}\n",
        "df = pd.DataFrame(data)\n",
        "melted_df = pd.melt(df,\n",
        "                    id_vars=['Student'], # Columns to keep (not melted)\n",
        "                    var_name='Subject',# Name of the new \"variable\" column\n",
        "                     value_name='Marks')# Name of the new \"value\" column\n",
        "print(\"\\nMelted Long DataFrame:\\n\", melted_df)"
      ],
      "metadata": {
        "colab": {
          "base_uri": "https://localhost:8080/"
        },
        "id": "ypXgCHXj_qYG",
        "outputId": "18cc63ed-e3db-4a64-b447-25b4684f2d22"
      },
      "execution_count": null,
      "outputs": [
        {
          "output_type": "stream",
          "name": "stdout",
          "text": [
            "\n",
            "Melted Long DataFrame:\n",
            "    Student  Subject  Marks\n",
            "0    Alice     Math     85\n",
            "1      Bob     Math     90\n",
            "2  Charlie     Math     78\n",
            "3    Alice  Science     92\n",
            "4      Bob  Science     88\n",
            "5  Charlie  Science     85\n",
            "6    Alice  English     75\n",
            "7      Bob  English     80\n",
            "8  Charlie  English     72\n"
          ]
        }
      ]
    },
    {
      "cell_type": "code",
      "source": [
        "import pandas as pd\n",
        "import numpy as np\n",
        "# Generate date range (10 daily periods starting from Jan 1, 2024)\n",
        "dates = pd.date_range(start='2024-01-01', periods=10, freq='D')\n",
        "# Create a time series\n",
        "ts = pd.Series(np.random.randint(100, 200, size=10), index=dates)\n",
        "print(ts)"
      ],
      "metadata": {
        "colab": {
          "base_uri": "https://localhost:8080/"
        },
        "id": "m6DeefBqFDwp",
        "outputId": "325971fa-cbe4-4e79-cb9a-524e75e94cea"
      },
      "execution_count": null,
      "outputs": [
        {
          "output_type": "stream",
          "name": "stdout",
          "text": [
            "2024-01-01    111\n",
            "2024-01-02    174\n",
            "2024-01-03    190\n",
            "2024-01-04    160\n",
            "2024-01-05    128\n",
            "2024-01-06    120\n",
            "2024-01-07    183\n",
            "2024-01-08    138\n",
            "2024-01-09    156\n",
            "2024-01-10    136\n",
            "Freq: D, dtype: int64\n"
          ]
        }
      ]
    },
    {
      "cell_type": "code",
      "source": [
        "import pandas as pd\n",
        "df = pd.DataFrame({\n",
        " 'Date': ['2024-01-01', '2024-01-02', '2024-01-03'],\n",
        " 'Value': [120, 135, 150]\n",
        "})\n",
        "# Convert string to datetime\n",
        "df['Date'] = pd.to_datetime(df['Date'])\n",
        "print(df)"
      ],
      "metadata": {
        "colab": {
          "base_uri": "https://localhost:8080/"
        },
        "id": "HssG9xTHrPrR",
        "outputId": "73f123a9-7d11-428a-971c-646fc5afd76c"
      },
      "execution_count": null,
      "outputs": [
        {
          "output_type": "stream",
          "name": "stdout",
          "text": [
            "        Date  Value\n",
            "0 2024-01-01    120\n",
            "1 2024-01-02    135\n",
            "2 2024-01-03    150\n"
          ]
        }
      ]
    },
    {
      "cell_type": "code",
      "source": [
        "import pandas as pd\n",
        "df = pd.DataFrame({\n",
        " 'Date': ['2024-01-01', '2024-01-02', '2024-01-03'],\n",
        " 'Value': [120, 135, 150]\n",
        "})\n",
        "df.set_index('Date', inplace=True)\n",
        "print(df)"
      ],
      "metadata": {
        "colab": {
          "base_uri": "https://localhost:8080/"
        },
        "id": "DhiGpKEJsspY",
        "outputId": "842d7c76-0893-4489-9412-93ffe4b32bcd"
      },
      "execution_count": null,
      "outputs": [
        {
          "output_type": "stream",
          "name": "stdout",
          "text": [
            "            Value\n",
            "Date             \n",
            "2024-01-01    120\n",
            "2024-01-02    135\n",
            "2024-01-03    150\n"
          ]
        }
      ]
    },
    {
      "cell_type": "code",
      "source": [
        "import pandas as pd\n",
        "import numpy as np\n",
        "from functools import reduce\n",
        "# Sample DataFrame\n",
        "df = pd.DataFrame({\n",
        " 'Name': ['Alice', 'Bob', 'Charlie', 'David'],\n",
        " 'Age': [25, 32, 30, 29],\n",
        " 'Salary': [50000, 60000, 55000, 52000]\n",
        "})\n",
        "print(df)"
      ],
      "metadata": {
        "colab": {
          "base_uri": "https://localhost:8080/"
        },
        "id": "wbUWu-ruuPWv",
        "outputId": "2d0da098-791f-48a6-8dad-14f60ee90c37"
      },
      "execution_count": null,
      "outputs": [
        {
          "output_type": "stream",
          "name": "stdout",
          "text": [
            "      Name  Age  Salary\n",
            "0    Alice   25   50000\n",
            "1      Bob   32   60000\n",
            "2  Charlie   30   55000\n",
            "3    David   29   52000\n"
          ]
        }
      ]
    },
    {
      "cell_type": "code",
      "source": [
        "import pandas as pd\n",
        "import numpy as np\n",
        "from functools import reduce\n",
        "# Sample DataFrame\n",
        "df = pd.DataFrame({\n",
        " 'Name': ['Alice', 'Bob', 'Charlie', 'David'],\n",
        " 'Age': [25, 32, 30, 29],\n",
        " 'Salary': [50000, 60000, 55000, 52000]})\n",
        "df['Updated_Salary'] = df['Salary'].apply(lambda x: x * 1.10)\n",
        "# Categorize Age\n",
        "df['Age_Group'] = df['Age'].apply(lambda x: 'Young' if x < 30 else 'Adult')\n",
        "print(df['Updated_Salary'])\n",
        "print(df['Age_Group'])"
      ],
      "metadata": {
        "colab": {
          "base_uri": "https://localhost:8080/"
        },
        "id": "nexFCdLWwLpN",
        "outputId": "e86d80f1-b8f3-4110-8d9c-f3d706d03070"
      },
      "execution_count": null,
      "outputs": [
        {
          "output_type": "stream",
          "name": "stdout",
          "text": [
            "0    55000.0\n",
            "1    66000.0\n",
            "2    60500.0\n",
            "3    57200.0\n",
            "Name: Updated_Salary, dtype: float64\n",
            "0    Young\n",
            "1    Adult\n",
            "2    Adult\n",
            "3    Young\n",
            "Name: Age_Group, dtype: object\n"
          ]
        }
      ]
    },
    {
      "cell_type": "code",
      "source": [
        "import pandas as pd\n",
        "import numpy as np\n",
        "from functools import reduce\n",
        "# Sample DataFrame\n",
        "df = pd.DataFrame({\n",
        " 'Name': ['Alice', 'Bob', 'Charlie', 'David'],\n",
        " 'Age': [25, 32, 30, 29],\n",
        " 'Salary': [50000, 60000, 55000, 52000]})\n",
        "df['Name_Upper'] = df['Name'].map(lambda x: x.upper())\n",
        "print(df['Name_Upper'])"
      ],
      "metadata": {
        "colab": {
          "base_uri": "https://localhost:8080/"
        },
        "id": "x-VM999o12N5",
        "outputId": "2392519e-7f4f-4c33-dd63-80e3f6a37f50"
      },
      "execution_count": null,
      "outputs": [
        {
          "output_type": "stream",
          "name": "stdout",
          "text": [
            "0      ALICE\n",
            "1        BOB\n",
            "2    CHARLIE\n",
            "3      DAVID\n",
            "Name: Name_Upper, dtype: object\n"
          ]
        }
      ]
    },
    {
      "cell_type": "code",
      "source": [
        "import pandas as pd\n",
        "import numpy as np\n",
        "from functools import reduce\n",
        "# Sample DataFrame\n",
        "df = pd.DataFrame({\n",
        " 'Name': ['Alice', 'Bob', 'Charlie', 'David'],\n",
        " 'Age': [25, 32, 30, 29],\n",
        " 'Salary': [50000, 60000, 55000, 52000]})\n",
        "salary_levels = {50000: 'Low',55000: 'Medium', 60000: 'High'}\n",
        "df['Salary_Level'] = df['Salary'].map(salary_levels)\n",
        "print(df['Salary_Level'])"
      ],
      "metadata": {
        "colab": {
          "base_uri": "https://localhost:8080/"
        },
        "id": "FAAOo73i42Rv",
        "outputId": "81d3d9e7-fe1a-439d-f052-6b35d96e19a3"
      },
      "execution_count": null,
      "outputs": [
        {
          "output_type": "stream",
          "name": "stdout",
          "text": [
            "0       Low\n",
            "1      High\n",
            "2    Medium\n",
            "3       NaN\n",
            "Name: Salary_Level, dtype: object\n"
          ]
        }
      ]
    },
    {
      "cell_type": "code",
      "source": [
        "import pandas as pd\n",
        "import numpy as np\n",
        "#from functools import reduce\n",
        "# Sample DataFrame\n",
        "df = pd.DataFrame({\n",
        " 'Name': ['Alice', 'Bob', 'Charlie', 'David'],\n",
        " 'Age': [25, 32, 30, 29],\n",
        " 'Salary': [50000, 60000, 55000, 52000]})\n",
        "filtered_df = df[df['Salary'] > 52000]\n",
        "filtered_df2= df[df['Name'].apply(lambda x: x.startswith('A'))]\n",
        "print(filtered_df)\n",
        "print(filtered_df2)"
      ],
      "metadata": {
        "id": "cxNFC7_x46hW",
        "colab": {
          "base_uri": "https://localhost:8080/"
        },
        "outputId": "4301c2ad-a10c-4d6b-de05-580426d97aa1"
      },
      "execution_count": null,
      "outputs": [
        {
          "output_type": "stream",
          "name": "stdout",
          "text": [
            "      Name  Age  Salary\n",
            "1      Bob   32   60000\n",
            "2  Charlie   30   55000\n",
            "    Name  Age  Salary\n",
            "0  Alice   25   50000\n"
          ]
        }
      ]
    },
    {
      "cell_type": "code",
      "source": [
        "import pandas as pd\n",
        "import numpy as np\n",
        "df = pd.DataFrame({'Name': ['Alice', 'Bob', 'Charlie', 'David'],\n",
        " 'Age': [25, 32, 30, 29]})\n",
        "df['Name_Age'] = df.apply(lambda row: reduce(lambda a, b: str(a) + '_' + str(b), [row['Name'], row['Age']]),\n",
        "axis=1)\n",
        "print(df['Name_Age'])"
      ],
      "metadata": {
        "colab": {
          "base_uri": "https://localhost:8080/"
        },
        "id": "-HWy0nLx2Np3",
        "outputId": "fca79de6-8ad3-4ca4-8051-aaa411d28698"
      },
      "execution_count": null,
      "outputs": [
        {
          "output_type": "stream",
          "name": "stdout",
          "text": [
            "0      Alice_25\n",
            "1        Bob_32\n",
            "2    Charlie_30\n",
            "3      David_29\n",
            "Name: Name_Age, dtype: object\n"
          ]
        }
      ]
    },
    {
      "cell_type": "code",
      "source": [
        "import pandas as pd\n",
        "data = {\n",
        " 'Name': ['Alice', 'Bob', 'Charlie'],\n",
        " 'Age': [25, 30, 35],\n",
        " 'City': ['Delhi', 'Mumbai', 'Bangalore']\n",
        "}\n",
        "df = pd.DataFrame(data)\n",
        "print(df['Name'])\n",
        "print(df.loc[0])\n",
        "print(df.iloc[1])"
      ],
      "metadata": {
        "colab": {
          "base_uri": "https://localhost:8080/"
        },
        "id": "6HOZd7Jh5EKl",
        "outputId": "d6cb06cf-e980-4dd3-8888-543eaf3177f2"
      },
      "execution_count": null,
      "outputs": [
        {
          "output_type": "stream",
          "name": "stdout",
          "text": [
            "0      Alice\n",
            "1        Bob\n",
            "2    Charlie\n",
            "Name: Name, dtype: object\n",
            "Name    Alice\n",
            "Age        25\n",
            "City    Delhi\n",
            "Name: 0, dtype: object\n",
            "Name       Bob\n",
            "Age         30\n",
            "City    Mumbai\n",
            "Name: 1, dtype: object\n"
          ]
        }
      ]
    },
    {
      "cell_type": "code",
      "source": [
        "import pandas as pd\n",
        "data = {\n",
        " 'Name': ['Alice', 'Bob', 'Charlie'],\n",
        " 'Age': [25, 30, 35],\n",
        " 'City': ['Delhi', 'Mumbai', 'Bangalore']\n",
        "}\n",
        "df=pd.DataFrame(data)\n",
        "filtered = df[df['Age'] > 25]\n",
        "df['Age'] = df['Age'] + 1\n",
        "print(df['Age'])\n",
        "print(filtered)"
      ],
      "metadata": {
        "colab": {
          "base_uri": "https://localhost:8080/"
        },
        "id": "qcblgHFW5Szl",
        "outputId": "14faf9de-0e08-40aa-b47f-cc12f8ada0f3"
      },
      "execution_count": null,
      "outputs": [
        {
          "output_type": "stream",
          "name": "stdout",
          "text": [
            "0    26\n",
            "1    31\n",
            "2    36\n",
            "Name: Age, dtype: int64\n",
            "      Name  Age       City\n",
            "1      Bob   30     Mumbai\n",
            "2  Charlie   35  Bangalore\n"
          ]
        }
      ]
    },
    {
      "cell_type": "code",
      "source": [
        "import pandas as pd\n",
        "data = {\n",
        " 'Name': ['Alice', 'Bob', 'Charlie'],\n",
        " 'Age': [25, 30, 35],\n",
        " 'City': ['Delhi', 'Mumbai', 'Bangalore']\n",
        "}\n",
        "df=pd.DataFrame(data)\n",
        "df['Salary'] = [50000, 60000, 70000]\n",
        "print(df['Salary'])"
      ],
      "metadata": {
        "colab": {
          "base_uri": "https://localhost:8080/"
        },
        "id": "6fqRRFYg5XiU",
        "outputId": "998b1afa-07c9-449e-d800-667f7ffed84f"
      },
      "execution_count": null,
      "outputs": [
        {
          "output_type": "stream",
          "name": "stdout",
          "text": [
            "0    50000\n",
            "1    60000\n",
            "2    70000\n",
            "Name: Salary, dtype: int64\n"
          ]
        }
      ]
    },
    {
      "cell_type": "code",
      "source": [
        "import pandas as pd\n",
        "import numpy as np\n",
        "# Generate date range (10 daily periods starting from Jan 1, 2024)\n",
        "dates = pd.date_range(start='2024-01-01', periods=10, freq='D')\n",
        "# Create a time series\n",
        "ts = pd.Series(np.random.randint(100, 200, size=10), index=dates)\n",
        "print(ts['2024-01-04'])\n",
        "# Get a range of days\n",
        "print(ts['2024-01-03':'2024-01-07'])\n",
        "# Get a whole month\n",
        "print(ts['2024-01'])"
      ],
      "metadata": {
        "colab": {
          "base_uri": "https://localhost:8080/"
        },
        "id": "Xb1RvwuA-zwr",
        "outputId": "6da221b0-4e39-4dfa-a1ed-e1f9d7c4da31"
      },
      "execution_count": null,
      "outputs": [
        {
          "output_type": "stream",
          "name": "stdout",
          "text": [
            "130\n",
            "2024-01-03    190\n",
            "2024-01-04    130\n",
            "2024-01-05    168\n",
            "2024-01-06    197\n",
            "2024-01-07    138\n",
            "Freq: D, dtype: int64\n",
            "2024-01-01    124\n",
            "2024-01-02    193\n",
            "2024-01-03    190\n",
            "2024-01-04    130\n",
            "2024-01-05    168\n",
            "2024-01-06    197\n",
            "2024-01-07    138\n",
            "2024-01-08    116\n",
            "2024-01-09    153\n",
            "2024-01-10    196\n",
            "Freq: D, dtype: int64\n"
          ]
        }
      ]
    }
  ]
}
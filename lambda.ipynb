{
  "nbformat": 4,
  "nbformat_minor": 0,
  "metadata": {
    "colab": {
      "provenance": [],
      "authorship_tag": "ABX9TyMVSwDVGksAVwHHaBeV5VpG",
      "include_colab_link": true
    },
    "kernelspec": {
      "name": "python3",
      "display_name": "Python 3"
    },
    "language_info": {
      "name": "python"
    }
  },
  "cells": [
    {
      "cell_type": "markdown",
      "metadata": {
        "id": "view-in-github",
        "colab_type": "text"
      },
      "source": [
        "<a href=\"https://colab.research.google.com/github/vinuta2363/collage/blob/main/lambda.ipynb\" target=\"_parent\"><img src=\"https://colab.research.google.com/assets/colab-badge.svg\" alt=\"Open In Colab\"/></a>"
      ]
    },
    {
      "cell_type": "code",
      "execution_count": null,
      "metadata": {
        "colab": {
          "base_uri": "https://localhost:8080/"
        },
        "id": "6xfIizCm-h4G",
        "outputId": "42b52b98-58f7-4581-ea57-f8795c2c724a"
      },
      "outputs": [
        {
          "output_type": "stream",
          "name": "stdout",
          "text": [
            "8\n"
          ]
        }
      ],
      "source": [
        "add=lambda x,y:x+y\n",
        "print(add(5,3))"
      ]
    },
    {
      "cell_type": "code",
      "source": [
        "square=lambda x:x**2\n",
        "print(square(4))"
      ],
      "metadata": {
        "colab": {
          "base_uri": "https://localhost:8080/"
        },
        "id": "PX825Xs1-x7F",
        "outputId": "130d0cf2-bd5b-4245-cb3b-3c61648f1203"
      },
      "execution_count": null,
      "outputs": [
        {
          "output_type": "stream",
          "name": "stdout",
          "text": [
            "16\n"
          ]
        }
      ]
    },
    {
      "cell_type": "code",
      "source": [
        "numbers=[1,2,3,4,5,6]\n",
        "even_numbers=list(filter(lambda x:x%2==0,numbers))\n",
        "print(even_numbers)"
      ],
      "metadata": {
        "colab": {
          "base_uri": "https://localhost:8080/"
        },
        "id": "kiPsh6Ho_Lh8",
        "outputId": "8f5f9eaf-0642-40ad-e557-9d3c0aecfb97"
      },
      "execution_count": null,
      "outputs": [
        {
          "output_type": "stream",
          "name": "stdout",
          "text": [
            "[2, 4, 6]\n"
          ]
        }
      ]
    },
    {
      "cell_type": "code",
      "source": [
        "data=[(1,'apple'),(3,'banana'),(2,'cherry')]\n",
        "sorted_data=sorted(data,key=lambda x:x[1])\n",
        "print(sorted_data)"
      ],
      "metadata": {
        "colab": {
          "base_uri": "https://localhost:8080/"
        },
        "id": "V1zUvSuP_iIs",
        "outputId": "781c0865-e2cf-46ec-c00b-23794c5304d6"
      },
      "execution_count": null,
      "outputs": [
        {
          "output_type": "stream",
          "name": "stdout",
          "text": [
            "[(1, 'apple'), (3, 'banana'), (2, 'cherry')]\n"
          ]
        }
      ]
    },
    {
      "cell_type": "code",
      "source": [
        "multiply=lambda x,y,z:x*y*z\n",
        "print(multiply(2,3,4))"
      ],
      "metadata": {
        "colab": {
          "base_uri": "https://localhost:8080/"
        },
        "id": "i-ZWuRLbAFBN",
        "outputId": "09c928c7-1833-463a-f85a-5273683b4aa4"
      },
      "execution_count": null,
      "outputs": [
        {
          "output_type": "stream",
          "name": "stdout",
          "text": [
            "24\n"
          ]
        }
      ]
    },
    {
      "cell_type": "code",
      "source": [
        "numbers=[1,2,3,4,5]\n",
        "doubled=list(map(lambda x:x*2,numbers))\n",
        "print(doubled)"
      ],
      "metadata": {
        "colab": {
          "base_uri": "https://localhost:8080/"
        },
        "id": "iEIft1fnAXJr",
        "outputId": "a8b7de30-e3e7-469c-fe99-6d6e0667f7ea"
      },
      "execution_count": null,
      "outputs": [
        {
          "output_type": "stream",
          "name": "stdout",
          "text": [
            "[2, 4, 6, 8, 10]\n"
          ]
        }
      ]
    },
    {
      "cell_type": "code",
      "source": [
        "number=[10,15,20,25,30]\n",
        "odds=list(filter(lambda x:x%2!=0,number))\n",
        "print(odds)"
      ],
      "metadata": {
        "colab": {
          "base_uri": "https://localhost:8080/"
        },
        "id": "h0N-SjHhAxo7",
        "outputId": "4340f5c7-027b-419d-cd12-e5a5b143c182"
      },
      "execution_count": null,
      "outputs": [
        {
          "output_type": "stream",
          "name": "stdout",
          "text": [
            "[15, 25]\n"
          ]
        }
      ]
    },
    {
      "cell_type": "code",
      "source": [
        "students=[{\"name\":\"alice\",\"score\":85},\n",
        "          {\"name\":\"alive\",\"score\":92},\n",
        "          {\"name\":\"charlie\",\"score\":78}]\n",
        "sorted_students=sorted(students,key=lambda student:student['score'])\n",
        "print(sorted_students)"
      ],
      "metadata": {
        "colab": {
          "base_uri": "https://localhost:8080/"
        },
        "id": "eHU6RbLBBcHL",
        "outputId": "8829b8f3-cf9e-4399-d6a7-5dbef2ea24a6"
      },
      "execution_count": null,
      "outputs": [
        {
          "output_type": "stream",
          "name": "stdout",
          "text": [
            "[{'name': 'charlie', 'score': 78}, {'name': 'alice', 'score': 85}, {'name': 'alive', 'score': 92}]\n"
          ]
        }
      ]
    },
    {
      "cell_type": "code",
      "source": [
        "def make_multipler(n):\n",
        "   return lambda x:x*n\n",
        "double=make_multipler(2)\n",
        "triple=make_multipler(3)\n",
        "print(double(5))\n",
        "print(triple(5))"
      ],
      "metadata": {
        "colab": {
          "base_uri": "https://localhost:8080/"
        },
        "id": "A5IdgcvPKcOb",
        "outputId": "17c01cbd-f040-4f0d-e199-7090478d0516"
      },
      "execution_count": null,
      "outputs": [
        {
          "output_type": "stream",
          "name": "stdout",
          "text": [
            "10\n",
            "15\n"
          ]
        }
      ]
    },
    {
      "cell_type": "code",
      "source": [
        "check_even=lambda x:\"even\"if x%2==0 else \"odd\"\n",
        "print(check_even(4))\n",
        "print(check_even(7))"
      ],
      "metadata": {
        "id": "zieAWRY0LdPJ",
        "colab": {
          "base_uri": "https://localhost:8080/"
        },
        "outputId": "a5b8565f-0584-4fbb-eccd-1608ad23af84"
      },
      "execution_count": null,
      "outputs": [
        {
          "output_type": "stream",
          "name": "stdout",
          "text": [
            "even\n",
            "odd\n"
          ]
        }
      ]
    },
    {
      "cell_type": "code",
      "source": [
        "from functools import reduce\n",
        "numbers=[1,2,3,4]\n",
        "product=reduce(lambda x,y:x*y,numbers)\n",
        "print(product)"
      ],
      "metadata": {
        "colab": {
          "base_uri": "https://localhost:8080/"
        },
        "id": "NrvCDJzwKIns",
        "outputId": "e2d1989d-9159-4491-ac63-ea2dcca4d916"
      },
      "execution_count": null,
      "outputs": [
        {
          "output_type": "stream",
          "name": "stdout",
          "text": [
            "24\n"
          ]
        }
      ]
    },
    {
      "cell_type": "code",
      "source": [
        "name=[\"john\",\"DOE\",\"ALICE\"]\n",
        "capitalized=list(map(lambda name:name.capitalize(),name))\n",
        "print(capitalized)"
      ],
      "metadata": {
        "colab": {
          "base_uri": "https://localhost:8080/"
        },
        "id": "-aNXTdGRKo6s",
        "outputId": "1f3069d9-e9a4-47f7-a462-1067b21b4b8c"
      },
      "execution_count": null,
      "outputs": [
        {
          "output_type": "stream",
          "name": "stdout",
          "text": [
            "['John', 'Doe', 'Alice']\n"
          ]
        }
      ]
    },
    {
      "cell_type": "code",
      "source": [
        "emails=[\"alice@example.com\",\"bob@test.com\"]\n",
        "domains=list(map(lambda email:email.split('@')[1],emails))\n",
        "print(domains)"
      ],
      "metadata": {
        "colab": {
          "base_uri": "https://localhost:8080/"
        },
        "id": "Ly_J28Z5LLzL",
        "outputId": "a870b60b-8809-420c-d182-71c9833e3057"
      },
      "execution_count": null,
      "outputs": [
        {
          "output_type": "stream",
          "name": "stdout",
          "text": [
            "['example.com', 'test.com']\n"
          ]
        }
      ]
    },
    {
      "cell_type": "code",
      "source": [
        "numbers=[2,4,6,8]\n",
        "all_even=all(map(lambda x:x%2==0,numbers))\n",
        "print(all_even)\n",
        "\n",
        "any_gt_5=any(map(lambda x:x>5,numbers))\n",
        "print(any_gt_5)"
      ],
      "metadata": {
        "colab": {
          "base_uri": "https://localhost:8080/"
        },
        "id": "Ti5xLfA3Lqub",
        "outputId": "fb1fb9be-4fc2-43cc-dad0-47e3c353cead"
      },
      "execution_count": null,
      "outputs": [
        {
          "output_type": "stream",
          "name": "stdout",
          "text": [
            "True\n",
            "True\n"
          ]
        }
      ]
    },
    {
      "cell_type": "code",
      "source": [
        "words=[\"apple\",\"banana\",\"cherry\",\"fig\"]\n",
        "sorted_words=sorted(words,key=lambda word:len(word))\n",
        "print(sorted_words)"
      ],
      "metadata": {
        "colab": {
          "base_uri": "https://localhost:8080/"
        },
        "id": "GWdis5GRMP0q",
        "outputId": "03cd1819-1226-401d-ca90-c88820f9e4f8"
      },
      "execution_count": null,
      "outputs": [
        {
          "output_type": "stream",
          "name": "stdout",
          "text": [
            "['fig', 'apple', 'banana', 'cherry']\n"
          ]
        }
      ]
    },
    {
      "cell_type": "code",
      "source": [
        "sentence=\"lambda functions are powerful\"\n",
        "reversed_words=list(map(lambda word:word[::-1],sentence.split()))\n",
        "print(\" \".join(reversed_words))"
      ],
      "metadata": {
        "colab": {
          "base_uri": "https://localhost:8080/"
        },
        "id": "Fjj_k-1JNAPb",
        "outputId": "233d0ad4-eed5-477f-ae17-670a2ef004d0"
      },
      "execution_count": null,
      "outputs": [
        {
          "output_type": "stream",
          "name": "stdout",
          "text": [
            "adbmal snoitcnuf era lufrewop\n"
          ]
        }
      ]
    },
    {
      "cell_type": "code",
      "source": [
        "people=[\"alice johnson\",\"bob smith\",\"charlie brown\"]\n",
        "sorted_by_last=sorted(people,key=lambda name:name.split()[-1])\n",
        "print(sorted_by_last)"
      ],
      "metadata": {
        "colab": {
          "base_uri": "https://localhost:8080/"
        },
        "id": "rikPOar0NeIa",
        "outputId": "94288aa6-83d7-4bd6-9fbc-04ad1b670ab9"
      },
      "execution_count": null,
      "outputs": [
        {
          "output_type": "stream",
          "name": "stdout",
          "text": [
            "['charlie brown', 'alice johnson', 'bob smith']\n"
          ]
        }
      ]
    },
    {
      "cell_type": "code",
      "source": [
        "operations={'add':lambda x,y:x+y,\n",
        "            'sub':lambda x,y:x-y,\n",
        "            'mul':lambda x,y:x*y,\n",
        "            'div':lambda x,y:x/y if y!=0 else 'error'}\n",
        "print(operations['add'](10,5))\n",
        "print(operations['div'](10,0))"
      ],
      "metadata": {
        "colab": {
          "base_uri": "https://localhost:8080/"
        },
        "id": "ZotiNDanOVi4",
        "outputId": "f9103063-3a10-414c-a97d-97f294e37a31"
      },
      "execution_count": null,
      "outputs": [
        {
          "output_type": "stream",
          "name": "stdout",
          "text": [
            "15\n",
            "error\n"
          ]
        }
      ]
    },
    {
      "cell_type": "code",
      "source": [
        "numbers=list(range(1,21))\n",
        "filtered=list(filter(lambda x:x%2==0 and x%3==0,numbers))\n",
        "print(filtered)"
      ],
      "metadata": {
        "colab": {
          "base_uri": "https://localhost:8080/"
        },
        "id": "IZ62At-HOlig",
        "outputId": "6309de02-99b0-4729-c6da-23bfea7ad40b"
      },
      "execution_count": null,
      "outputs": [
        {
          "output_type": "stream",
          "name": "stdout",
          "text": [
            "[6, 12, 18]\n"
          ]
        }
      ]
    },
    {
      "cell_type": "code",
      "source": [
        "check_even_odd=lambda num:\"even\" if num%2==0 else\"odd\"\n",
        "print(check_even_odd(4))\n",
        "print(check_even_odd(7))"
      ],
      "metadata": {
        "colab": {
          "base_uri": "https://localhost:8080/"
        },
        "id": "SAnn6uixPzs4",
        "outputId": "0447c780-b650-47d8-f939-17572c877f15"
      },
      "execution_count": null,
      "outputs": [
        {
          "output_type": "stream",
          "name": "stdout",
          "text": [
            "even\n",
            "odd\n"
          ]
        }
      ]
    },
    {
      "cell_type": "code",
      "source": [
        "s1='geeksforgeeks'\n",
        "s2=lambda func:func.upper()\n",
        "print(s2(s1))"
      ],
      "metadata": {
        "colab": {
          "base_uri": "https://localhost:8080/"
        },
        "id": "GlbsczYdQPve",
        "outputId": "53d2cbfa-f97a-4d8a-b907-5af94d791b44"
      },
      "execution_count": null,
      "outputs": [
        {
          "output_type": "stream",
          "name": "stdout",
          "text": [
            "GEEKSFORGEEKS\n"
          ]
        }
      ]
    },
    {
      "cell_type": "code",
      "source": [
        "n=lambda x:\"positive\" if x>0 else\"negative\" if x<0 else \"zero\"\n",
        "print(n(5))\n",
        "print(n(-3))\n",
        "print(n(0))"
      ],
      "metadata": {
        "colab": {
          "base_uri": "https://localhost:8080/"
        },
        "id": "5IHn8EWoQg3v",
        "outputId": "a8b19fb0-6d4b-4fad-96d8-351df447f5a1"
      },
      "execution_count": null,
      "outputs": [
        {
          "output_type": "stream",
          "name": "stdout",
          "text": [
            "positive\n",
            "negative\n",
            "zero\n"
          ]
        }
      ]
    },
    {
      "cell_type": "code",
      "source": [
        "li=[lambda arg=x:arg*10 for x in range (1,5)]\n",
        "for i in li:\n",
        "  print(i())"
      ],
      "metadata": {
        "colab": {
          "base_uri": "https://localhost:8080/"
        },
        "id": "fKrjU_9pQ9cu",
        "outputId": "aa46f3e0-e0a9-4bae-8694-d9f872b07df8"
      },
      "execution_count": null,
      "outputs": [
        {
          "output_type": "stream",
          "name": "stdout",
          "text": [
            "10\n",
            "20\n",
            "30\n",
            "40\n"
          ]
        }
      ]
    },
    {
      "cell_type": "code",
      "source": [
        "check=lambda x:\"even\" if x%2==0 else\"odd\"\n",
        "print(check(4))\n",
        "print(check(7))"
      ],
      "metadata": {
        "colab": {
          "base_uri": "https://localhost:8080/"
        },
        "id": "e4i5UQK9RQnF",
        "outputId": "587bd3fb-b2f8-4a3c-e91f-2dc1991deea4"
      },
      "execution_count": null,
      "outputs": [
        {
          "output_type": "stream",
          "name": "stdout",
          "text": [
            "even\n",
            "odd\n"
          ]
        }
      ]
    },
    {
      "cell_type": "code",
      "source": [
        "calc=lambda x,y:(x+y,x*y)\n",
        "res=calc(3,4)\n",
        "print(res)"
      ],
      "metadata": {
        "colab": {
          "base_uri": "https://localhost:8080/"
        },
        "id": "hwUXRFJIRoot",
        "outputId": "dd5eb77c-d94a-4de4-9092-4275bc9ef782"
      },
      "execution_count": null,
      "outputs": [
        {
          "output_type": "stream",
          "name": "stdout",
          "text": [
            "(7, 12)\n"
          ]
        }
      ]
    },
    {
      "cell_type": "code",
      "source": [
        "n=[1,2,3,4,5,6]\n",
        "even=filter(lambda x:x%2==0,n)\n",
        "print(list(even))"
      ],
      "metadata": {
        "colab": {
          "base_uri": "https://localhost:8080/"
        },
        "id": "4G2-uVECR9Z2",
        "outputId": "3519270a-b974-4ed3-f5e6-f1e268a8b21c"
      },
      "execution_count": null,
      "outputs": [
        {
          "output_type": "stream",
          "name": "stdout",
          "text": [
            "[2, 4, 6]\n"
          ]
        }
      ]
    },
    {
      "cell_type": "code",
      "source": [
        "a=[1,2,3,4]\n",
        "b=map(lambda x:x*2,a)\n",
        "print(list(b))"
      ],
      "metadata": {
        "colab": {
          "base_uri": "https://localhost:8080/"
        },
        "id": "u82-72e0WofE",
        "outputId": "134e33d0-7b2f-4ec9-8800-bc5008793b39"
      },
      "execution_count": null,
      "outputs": [
        {
          "output_type": "stream",
          "name": "stdout",
          "text": [
            "[2, 4, 6, 8]\n"
          ]
        }
      ]
    },
    {
      "cell_type": "code",
      "source": [
        "from functools import reduce\n",
        "a=[1,2,3,4]\n",
        "b=reduce(lambda x,y:x*y,a)\n",
        "print(b)"
      ],
      "metadata": {
        "colab": {
          "base_uri": "https://localhost:8080/"
        },
        "id": "DivasgtPW1x0",
        "outputId": "4b021e60-a691-41a8-ff4f-3e5d0941fdb7"
      },
      "execution_count": null,
      "outputs": [
        {
          "output_type": "stream",
          "name": "stdout",
          "text": [
            "24\n"
          ]
        }
      ]
    }
  ]
}